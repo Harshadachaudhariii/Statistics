{
 "cells": [
  {
   "cell_type": "code",
   "execution_count": 62,
   "id": "0cd3dd4a-ebb4-462a-adeb-bb9c837e73b2",
   "metadata": {},
   "outputs": [],
   "source": [
    "# pip install scipy\n",
    "# !pip install statsmodels"
   ]
  },
  {
   "cell_type": "code",
   "execution_count": 1,
   "id": "5f0fc13c-1252-436f-ab46-bf83af9d7ab1",
   "metadata": {},
   "outputs": [],
   "source": [
    "import numpy as np\n",
    "import pandas as pd\n",
    "import matplotlib.pyplot as plt\n",
    "import seaborn as sns\n",
    "import statistics as stats\n",
    "import math\n",
    "import scipy.stats as sts\n",
    "\n",
    "import warnings\n",
    "warnings.filterwarnings(\"ignore\")"
   ]
  },
  {
   "cell_type": "code",
   "execution_count": 2,
   "id": "5dff1138-199f-4213-ac0f-db60766535a6",
   "metadata": {},
   "outputs": [
    {
     "data": {
      "text/plain": [
       "[1, 2, 3, 4, 5]"
      ]
     },
     "execution_count": 2,
     "metadata": {},
     "output_type": "execute_result"
    }
   ],
   "source": [
    "data = [1,2,3,4,5]\n",
    "data"
   ]
  },
  {
   "cell_type": "code",
   "execution_count": 3,
   "id": "f964ab08-2ff6-44cb-8dfe-74c9c3b83578",
   "metadata": {},
   "outputs": [
    {
     "data": {
      "text/plain": [
       "3.0"
      ]
     },
     "execution_count": 3,
     "metadata": {},
     "output_type": "execute_result"
    }
   ],
   "source": [
    "# measure of central of tendency\n",
    "np.mean(data)"
   ]
  },
  {
   "cell_type": "code",
   "execution_count": 4,
   "id": "4601d8c7-7903-4952-a386-92d8d4f1cbe4",
   "metadata": {},
   "outputs": [
    {
     "data": {
      "text/html": [
       "<div>\n",
       "<style scoped>\n",
       "    .dataframe tbody tr th:only-of-type {\n",
       "        vertical-align: middle;\n",
       "    }\n",
       "\n",
       "    .dataframe tbody tr th {\n",
       "        vertical-align: top;\n",
       "    }\n",
       "\n",
       "    .dataframe thead th {\n",
       "        text-align: right;\n",
       "    }\n",
       "</style>\n",
       "<table border=\"1\" class=\"dataframe\">\n",
       "  <thead>\n",
       "    <tr style=\"text-align: right;\">\n",
       "      <th></th>\n",
       "      <th>total_bill</th>\n",
       "      <th>tip</th>\n",
       "      <th>sex</th>\n",
       "      <th>smoker</th>\n",
       "      <th>day</th>\n",
       "      <th>time</th>\n",
       "      <th>size</th>\n",
       "    </tr>\n",
       "  </thead>\n",
       "  <tbody>\n",
       "    <tr>\n",
       "      <th>0</th>\n",
       "      <td>16.99</td>\n",
       "      <td>1.01</td>\n",
       "      <td>Female</td>\n",
       "      <td>No</td>\n",
       "      <td>Sun</td>\n",
       "      <td>Dinner</td>\n",
       "      <td>2</td>\n",
       "    </tr>\n",
       "    <tr>\n",
       "      <th>1</th>\n",
       "      <td>10.34</td>\n",
       "      <td>1.66</td>\n",
       "      <td>Male</td>\n",
       "      <td>No</td>\n",
       "      <td>Sun</td>\n",
       "      <td>Dinner</td>\n",
       "      <td>3</td>\n",
       "    </tr>\n",
       "    <tr>\n",
       "      <th>2</th>\n",
       "      <td>21.01</td>\n",
       "      <td>3.50</td>\n",
       "      <td>Male</td>\n",
       "      <td>No</td>\n",
       "      <td>Sun</td>\n",
       "      <td>Dinner</td>\n",
       "      <td>3</td>\n",
       "    </tr>\n",
       "    <tr>\n",
       "      <th>3</th>\n",
       "      <td>23.68</td>\n",
       "      <td>3.31</td>\n",
       "      <td>Male</td>\n",
       "      <td>No</td>\n",
       "      <td>Sun</td>\n",
       "      <td>Dinner</td>\n",
       "      <td>2</td>\n",
       "    </tr>\n",
       "    <tr>\n",
       "      <th>4</th>\n",
       "      <td>24.59</td>\n",
       "      <td>3.61</td>\n",
       "      <td>Female</td>\n",
       "      <td>No</td>\n",
       "      <td>Sun</td>\n",
       "      <td>Dinner</td>\n",
       "      <td>4</td>\n",
       "    </tr>\n",
       "    <tr>\n",
       "      <th>...</th>\n",
       "      <td>...</td>\n",
       "      <td>...</td>\n",
       "      <td>...</td>\n",
       "      <td>...</td>\n",
       "      <td>...</td>\n",
       "      <td>...</td>\n",
       "      <td>...</td>\n",
       "    </tr>\n",
       "    <tr>\n",
       "      <th>239</th>\n",
       "      <td>29.03</td>\n",
       "      <td>5.92</td>\n",
       "      <td>Male</td>\n",
       "      <td>No</td>\n",
       "      <td>Sat</td>\n",
       "      <td>Dinner</td>\n",
       "      <td>3</td>\n",
       "    </tr>\n",
       "    <tr>\n",
       "      <th>240</th>\n",
       "      <td>27.18</td>\n",
       "      <td>2.00</td>\n",
       "      <td>Female</td>\n",
       "      <td>Yes</td>\n",
       "      <td>Sat</td>\n",
       "      <td>Dinner</td>\n",
       "      <td>2</td>\n",
       "    </tr>\n",
       "    <tr>\n",
       "      <th>241</th>\n",
       "      <td>22.67</td>\n",
       "      <td>2.00</td>\n",
       "      <td>Male</td>\n",
       "      <td>Yes</td>\n",
       "      <td>Sat</td>\n",
       "      <td>Dinner</td>\n",
       "      <td>2</td>\n",
       "    </tr>\n",
       "    <tr>\n",
       "      <th>242</th>\n",
       "      <td>17.82</td>\n",
       "      <td>1.75</td>\n",
       "      <td>Male</td>\n",
       "      <td>No</td>\n",
       "      <td>Sat</td>\n",
       "      <td>Dinner</td>\n",
       "      <td>2</td>\n",
       "    </tr>\n",
       "    <tr>\n",
       "      <th>243</th>\n",
       "      <td>18.78</td>\n",
       "      <td>3.00</td>\n",
       "      <td>Female</td>\n",
       "      <td>No</td>\n",
       "      <td>Thur</td>\n",
       "      <td>Dinner</td>\n",
       "      <td>2</td>\n",
       "    </tr>\n",
       "  </tbody>\n",
       "</table>\n",
       "<p>244 rows × 7 columns</p>\n",
       "</div>"
      ],
      "text/plain": [
       "     total_bill   tip     sex smoker   day    time  size\n",
       "0         16.99  1.01  Female     No   Sun  Dinner     2\n",
       "1         10.34  1.66    Male     No   Sun  Dinner     3\n",
       "2         21.01  3.50    Male     No   Sun  Dinner     3\n",
       "3         23.68  3.31    Male     No   Sun  Dinner     2\n",
       "4         24.59  3.61  Female     No   Sun  Dinner     4\n",
       "..          ...   ...     ...    ...   ...     ...   ...\n",
       "239       29.03  5.92    Male     No   Sat  Dinner     3\n",
       "240       27.18  2.00  Female    Yes   Sat  Dinner     2\n",
       "241       22.67  2.00    Male    Yes   Sat  Dinner     2\n",
       "242       17.82  1.75    Male     No   Sat  Dinner     2\n",
       "243       18.78  3.00  Female     No  Thur  Dinner     2\n",
       "\n",
       "[244 rows x 7 columns]"
      ]
     },
     "execution_count": 4,
     "metadata": {},
     "output_type": "execute_result"
    }
   ],
   "source": [
    "df= sns.load_dataset('tips')\n",
    "df"
   ]
  },
  {
   "cell_type": "code",
   "execution_count": 5,
   "id": "5439a6d5-cd51-4eb6-9512-192557b0e8be",
   "metadata": {},
   "outputs": [
    {
     "data": {
      "text/plain": [
       "19.78594262295082"
      ]
     },
     "execution_count": 5,
     "metadata": {},
     "output_type": "execute_result"
    }
   ],
   "source": [
    "np.mean(df['total_bill'])"
   ]
  },
  {
   "cell_type": "code",
   "execution_count": 6,
   "id": "5bf9db7c-29be-4342-b0c5-5500dc354ddd",
   "metadata": {},
   "outputs": [
    {
     "data": {
      "text/html": [
       "<div>\n",
       "<style scoped>\n",
       "    .dataframe tbody tr th:only-of-type {\n",
       "        vertical-align: middle;\n",
       "    }\n",
       "\n",
       "    .dataframe tbody tr th {\n",
       "        vertical-align: top;\n",
       "    }\n",
       "\n",
       "    .dataframe thead th {\n",
       "        text-align: right;\n",
       "    }\n",
       "</style>\n",
       "<table border=\"1\" class=\"dataframe\">\n",
       "  <thead>\n",
       "    <tr style=\"text-align: right;\">\n",
       "      <th></th>\n",
       "      <th>total_bill</th>\n",
       "      <th>tip</th>\n",
       "      <th>size</th>\n",
       "    </tr>\n",
       "  </thead>\n",
       "  <tbody>\n",
       "    <tr>\n",
       "      <th>count</th>\n",
       "      <td>244.000000</td>\n",
       "      <td>244.000000</td>\n",
       "      <td>244.000000</td>\n",
       "    </tr>\n",
       "    <tr>\n",
       "      <th>mean</th>\n",
       "      <td>19.785943</td>\n",
       "      <td>2.998279</td>\n",
       "      <td>2.569672</td>\n",
       "    </tr>\n",
       "    <tr>\n",
       "      <th>std</th>\n",
       "      <td>8.902412</td>\n",
       "      <td>1.383638</td>\n",
       "      <td>0.951100</td>\n",
       "    </tr>\n",
       "    <tr>\n",
       "      <th>min</th>\n",
       "      <td>3.070000</td>\n",
       "      <td>1.000000</td>\n",
       "      <td>1.000000</td>\n",
       "    </tr>\n",
       "    <tr>\n",
       "      <th>25%</th>\n",
       "      <td>13.347500</td>\n",
       "      <td>2.000000</td>\n",
       "      <td>2.000000</td>\n",
       "    </tr>\n",
       "    <tr>\n",
       "      <th>50%</th>\n",
       "      <td>17.795000</td>\n",
       "      <td>2.900000</td>\n",
       "      <td>2.000000</td>\n",
       "    </tr>\n",
       "    <tr>\n",
       "      <th>75%</th>\n",
       "      <td>24.127500</td>\n",
       "      <td>3.562500</td>\n",
       "      <td>3.000000</td>\n",
       "    </tr>\n",
       "    <tr>\n",
       "      <th>max</th>\n",
       "      <td>50.810000</td>\n",
       "      <td>10.000000</td>\n",
       "      <td>6.000000</td>\n",
       "    </tr>\n",
       "  </tbody>\n",
       "</table>\n",
       "</div>"
      ],
      "text/plain": [
       "       total_bill         tip        size\n",
       "count  244.000000  244.000000  244.000000\n",
       "mean    19.785943    2.998279    2.569672\n",
       "std      8.902412    1.383638    0.951100\n",
       "min      3.070000    1.000000    1.000000\n",
       "25%     13.347500    2.000000    2.000000\n",
       "50%     17.795000    2.900000    2.000000\n",
       "75%     24.127500    3.562500    3.000000\n",
       "max     50.810000   10.000000    6.000000"
      ]
     },
     "execution_count": 6,
     "metadata": {},
     "output_type": "execute_result"
    }
   ],
   "source": [
    "df.describe()"
   ]
  },
  {
   "cell_type": "code",
   "execution_count": 7,
   "id": "4764f10c-7fa5-4aac-a93f-b91a12365c97",
   "metadata": {},
   "outputs": [
    {
     "data": {
      "text/plain": [
       "3.0"
      ]
     },
     "execution_count": 7,
     "metadata": {},
     "output_type": "execute_result"
    }
   ],
   "source": [
    "np.median(data)"
   ]
  },
  {
   "cell_type": "code",
   "execution_count": 8,
   "id": "6821ecad-b1b7-4ee2-b195-a7f206e84a1b",
   "metadata": {},
   "outputs": [],
   "source": [
    "data =[1,2,3,4,500]"
   ]
  },
  {
   "cell_type": "code",
   "execution_count": 9,
   "id": "e7addd09-6a80-469f-b0d9-8c832d66882f",
   "metadata": {},
   "outputs": [
    {
     "data": {
      "text/plain": [
       "102.0"
      ]
     },
     "execution_count": 9,
     "metadata": {},
     "output_type": "execute_result"
    }
   ],
   "source": [
    "np.mean(data)"
   ]
  },
  {
   "cell_type": "code",
   "execution_count": 10,
   "id": "a58d870b-4dbc-4b33-b10d-a0861668e76b",
   "metadata": {},
   "outputs": [
    {
     "data": {
      "text/plain": [
       "3.0"
      ]
     },
     "execution_count": 10,
     "metadata": {},
     "output_type": "execute_result"
    }
   ],
   "source": [
    "np.median(data)"
   ]
  },
  {
   "cell_type": "markdown",
   "id": "f5a784c0-3b9b-4a47-b7d1-b4e7208e8882",
   "metadata": {},
   "source": [
    "interpretation --> mean is inflated by outlier but medain not "
   ]
  },
  {
   "cell_type": "code",
   "execution_count": 11,
   "id": "237defd4-4593-44f6-9ba6-d3256c7e48e1",
   "metadata": {},
   "outputs": [
    {
     "data": {
      "text/plain": [
       "[1, 2, 3, 3, 3, 3, 4, 20, -20]"
      ]
     },
     "execution_count": 11,
     "metadata": {},
     "output_type": "execute_result"
    }
   ],
   "source": [
    "data =[1,2,3,3,3,3,4,20,-20]\n",
    "data"
   ]
  },
  {
   "cell_type": "code",
   "execution_count": 12,
   "id": "0bb91fa4-5590-47dc-b1c0-030e1d2d9042",
   "metadata": {},
   "outputs": [
    {
     "data": {
      "text/plain": [
       "3"
      ]
     },
     "execution_count": 12,
     "metadata": {},
     "output_type": "execute_result"
    }
   ],
   "source": [
    "# np.mode(data)  #it will thrown an error beacuse the np has no module mode\n",
    "stats.mode(data)"
   ]
  },
  {
   "cell_type": "code",
   "execution_count": 13,
   "id": "16b579a3-a216-44ab-82e8-7239b352455e",
   "metadata": {},
   "outputs": [
    {
     "data": {
      "text/plain": [
       "array([2.])"
      ]
     },
     "execution_count": 13,
     "metadata": {},
     "output_type": "execute_result"
    }
   ],
   "source": [
    "# percentile 25%, 50% , 75%\n",
    "np.percentile(data,[25])   # 25 percentage of the data below 2.75"
   ]
  },
  {
   "cell_type": "code",
   "execution_count": 14,
   "id": "3a382043-f5e4-4b8c-9bdd-b8d67a465795",
   "metadata": {},
   "outputs": [
    {
     "data": {
      "text/plain": [
       "array([ 2.  ,  3.  ,  3.  ,  5.92, 20.  ])"
      ]
     },
     "execution_count": 14,
     "metadata": {},
     "output_type": "execute_result"
    }
   ],
   "source": [
    "# can i do 50% 75% 85% 89% 90% 99% , and any random value percentage then it yes \n",
    "np.percentile(data,[25,50,75, 89,100])"
   ]
  },
  {
   "cell_type": "code",
   "execution_count": 15,
   "id": "39c480ea-0998-4545-ad99-10978c3000ab",
   "metadata": {},
   "outputs": [
    {
     "data": {
      "text/plain": [
       "<Axes: >"
      ]
     },
     "execution_count": 15,
     "metadata": {},
     "output_type": "execute_result"
    },
    {
     "data": {
      "image/png": "[encoded data removed]",
      "text/plain": [
       "<Figure size 640x480 with 1 Axes>"
      ]
     },
     "metadata": {},
     "output_type": "display_data"
    }
   ],
   "source": [
    "# outlier\n",
    "sns.boxplot(data)"
   ]
  },
  {
   "cell_type": "code",
   "execution_count": 16,
   "id": "de3e04a1-81ee-412e-8693-b7e383244ddf",
   "metadata": {},
   "outputs": [
    {
     "data": {
      "text/plain": [
       "90.76543209876543"
      ]
     },
     "execution_count": 16,
     "metadata": {},
     "output_type": "execute_result"
    }
   ],
   "source": [
    "# measure of dispersion -> variance\n",
    "np.var(data)"
   ]
  },
  {
   "cell_type": "code",
   "execution_count": 17,
   "id": "0565026a-fb7c-4838-94bb-9b8852e03599",
   "metadata": {},
   "outputs": [
    {
     "data": {
      "text/plain": [
       "9.527089382322673"
      ]
     },
     "execution_count": 17,
     "metadata": {},
     "output_type": "execute_result"
    }
   ],
   "source": [
    "# standard deviation\n",
    "np.std(data) #--> this uses both population so that it is difference"
   ]
  },
  {
   "cell_type": "code",
   "execution_count": 18,
   "id": "73cc0bd7-cfe1-435d-85df-c9743ca92637",
   "metadata": {},
   "outputs": [
    {
     "data": {
      "text/plain": [
       "102.11111111111111"
      ]
     },
     "execution_count": 18,
     "metadata": {},
     "output_type": "execute_result"
    }
   ],
   "source": [
    "# variance and standard devistion using statistics and sample variance divide by n-1\n",
    "stats.variance(data)  #the both variance and std has differnece beacuse it calculated sample variance and std"
   ]
  },
  {
   "cell_type": "code",
   "execution_count": 19,
   "id": "04a28963-b44b-4a2e-a99c-cafcc27ffb15",
   "metadata": {},
   "outputs": [
    {
     "data": {
      "text/plain": [
       "10.105004260816079"
      ]
     },
     "execution_count": 19,
     "metadata": {},
     "output_type": "execute_result"
    }
   ],
   "source": [
    "stats.stdev(data)"
   ]
  },
  {
   "cell_type": "code",
   "execution_count": 20,
   "id": "c8982412-f5b8-4ae6-b62c-ce7ba05c07dc",
   "metadata": {},
   "outputs": [
    {
     "data": {
      "text/plain": [
       "90.76543209876543"
      ]
     },
     "execution_count": 20,
     "metadata": {},
     "output_type": "execute_result"
    }
   ],
   "source": [
    "stats.pvariance(data)"
   ]
  },
  {
   "cell_type": "code",
   "execution_count": 21,
   "id": "1450ea80-f64b-485f-9a91-20de9a296df4",
   "metadata": {},
   "outputs": [
    {
     "data": {
      "text/plain": [
       "10.105004260816079"
      ]
     },
     "execution_count": 21,
     "metadata": {},
     "output_type": "execute_result"
    }
   ],
   "source": [
    "math.sqrt(stats.variance(data))"
   ]
  },
  {
   "cell_type": "code",
   "execution_count": 22,
   "id": "5a7682b7-7c66-49fa-9864-139dea1bf091",
   "metadata": {},
   "outputs": [
    {
     "data": {
      "text/html": [
       "<div>\n",
       "<style scoped>\n",
       "    .dataframe tbody tr th:only-of-type {\n",
       "        vertical-align: middle;\n",
       "    }\n",
       "\n",
       "    .dataframe tbody tr th {\n",
       "        vertical-align: top;\n",
       "    }\n",
       "\n",
       "    .dataframe thead th {\n",
       "        text-align: right;\n",
       "    }\n",
       "</style>\n",
       "<table border=\"1\" class=\"dataframe\">\n",
       "  <thead>\n",
       "    <tr style=\"text-align: right;\">\n",
       "      <th></th>\n",
       "      <th>total_bill</th>\n",
       "      <th>tip</th>\n",
       "      <th>sex</th>\n",
       "      <th>smoker</th>\n",
       "      <th>day</th>\n",
       "      <th>time</th>\n",
       "      <th>size</th>\n",
       "    </tr>\n",
       "  </thead>\n",
       "  <tbody>\n",
       "    <tr>\n",
       "      <th>0</th>\n",
       "      <td>16.99</td>\n",
       "      <td>1.01</td>\n",
       "      <td>Female</td>\n",
       "      <td>No</td>\n",
       "      <td>Sun</td>\n",
       "      <td>Dinner</td>\n",
       "      <td>2</td>\n",
       "    </tr>\n",
       "    <tr>\n",
       "      <th>1</th>\n",
       "      <td>10.34</td>\n",
       "      <td>1.66</td>\n",
       "      <td>Male</td>\n",
       "      <td>No</td>\n",
       "      <td>Sun</td>\n",
       "      <td>Dinner</td>\n",
       "      <td>3</td>\n",
       "    </tr>\n",
       "    <tr>\n",
       "      <th>2</th>\n",
       "      <td>21.01</td>\n",
       "      <td>3.50</td>\n",
       "      <td>Male</td>\n",
       "      <td>No</td>\n",
       "      <td>Sun</td>\n",
       "      <td>Dinner</td>\n",
       "      <td>3</td>\n",
       "    </tr>\n",
       "    <tr>\n",
       "      <th>3</th>\n",
       "      <td>23.68</td>\n",
       "      <td>3.31</td>\n",
       "      <td>Male</td>\n",
       "      <td>No</td>\n",
       "      <td>Sun</td>\n",
       "      <td>Dinner</td>\n",
       "      <td>2</td>\n",
       "    </tr>\n",
       "    <tr>\n",
       "      <th>4</th>\n",
       "      <td>24.59</td>\n",
       "      <td>3.61</td>\n",
       "      <td>Female</td>\n",
       "      <td>No</td>\n",
       "      <td>Sun</td>\n",
       "      <td>Dinner</td>\n",
       "      <td>4</td>\n",
       "    </tr>\n",
       "    <tr>\n",
       "      <th>...</th>\n",
       "      <td>...</td>\n",
       "      <td>...</td>\n",
       "      <td>...</td>\n",
       "      <td>...</td>\n",
       "      <td>...</td>\n",
       "      <td>...</td>\n",
       "      <td>...</td>\n",
       "    </tr>\n",
       "    <tr>\n",
       "      <th>239</th>\n",
       "      <td>29.03</td>\n",
       "      <td>5.92</td>\n",
       "      <td>Male</td>\n",
       "      <td>No</td>\n",
       "      <td>Sat</td>\n",
       "      <td>Dinner</td>\n",
       "      <td>3</td>\n",
       "    </tr>\n",
       "    <tr>\n",
       "      <th>240</th>\n",
       "      <td>27.18</td>\n",
       "      <td>2.00</td>\n",
       "      <td>Female</td>\n",
       "      <td>Yes</td>\n",
       "      <td>Sat</td>\n",
       "      <td>Dinner</td>\n",
       "      <td>2</td>\n",
       "    </tr>\n",
       "    <tr>\n",
       "      <th>241</th>\n",
       "      <td>22.67</td>\n",
       "      <td>2.00</td>\n",
       "      <td>Male</td>\n",
       "      <td>Yes</td>\n",
       "      <td>Sat</td>\n",
       "      <td>Dinner</td>\n",
       "      <td>2</td>\n",
       "    </tr>\n",
       "    <tr>\n",
       "      <th>242</th>\n",
       "      <td>17.82</td>\n",
       "      <td>1.75</td>\n",
       "      <td>Male</td>\n",
       "      <td>No</td>\n",
       "      <td>Sat</td>\n",
       "      <td>Dinner</td>\n",
       "      <td>2</td>\n",
       "    </tr>\n",
       "    <tr>\n",
       "      <th>243</th>\n",
       "      <td>18.78</td>\n",
       "      <td>3.00</td>\n",
       "      <td>Female</td>\n",
       "      <td>No</td>\n",
       "      <td>Thur</td>\n",
       "      <td>Dinner</td>\n",
       "      <td>2</td>\n",
       "    </tr>\n",
       "  </tbody>\n",
       "</table>\n",
       "<p>244 rows × 7 columns</p>\n",
       "</div>"
      ],
      "text/plain": [
       "     total_bill   tip     sex smoker   day    time  size\n",
       "0         16.99  1.01  Female     No   Sun  Dinner     2\n",
       "1         10.34  1.66    Male     No   Sun  Dinner     3\n",
       "2         21.01  3.50    Male     No   Sun  Dinner     3\n",
       "3         23.68  3.31    Male     No   Sun  Dinner     2\n",
       "4         24.59  3.61  Female     No   Sun  Dinner     4\n",
       "..          ...   ...     ...    ...   ...     ...   ...\n",
       "239       29.03  5.92    Male     No   Sat  Dinner     3\n",
       "240       27.18  2.00  Female    Yes   Sat  Dinner     2\n",
       "241       22.67  2.00    Male    Yes   Sat  Dinner     2\n",
       "242       17.82  1.75    Male     No   Sat  Dinner     2\n",
       "243       18.78  3.00  Female     No  Thur  Dinner     2\n",
       "\n",
       "[244 rows x 7 columns]"
      ]
     },
     "execution_count": 22,
     "metadata": {},
     "output_type": "execute_result"
    }
   ],
   "source": [
    "# how to know the relationship between two feature\n",
    "# bu using correlation and covariance\n",
    "df"
   ]
  },
  {
   "cell_type": "code",
   "execution_count": 23,
   "id": "e0b5c617-f5f1-48f0-9db8-24937b757718",
   "metadata": {},
   "outputs": [],
   "source": [
    "corr=df[['total_bill', 'tip', 'size']].corr()"
   ]
  },
  {
   "cell_type": "code",
   "execution_count": 24,
   "id": "0510b878-aec4-4868-a83b-9d8449e19eac",
   "metadata": {},
   "outputs": [
    {
     "data": {
      "text/html": [
       "<div>\n",
       "<style scoped>\n",
       "    .dataframe tbody tr th:only-of-type {\n",
       "        vertical-align: middle;\n",
       "    }\n",
       "\n",
       "    .dataframe tbody tr th {\n",
       "        vertical-align: top;\n",
       "    }\n",
       "\n",
       "    .dataframe thead th {\n",
       "        text-align: right;\n",
       "    }\n",
       "</style>\n",
       "<table border=\"1\" class=\"dataframe\">\n",
       "  <thead>\n",
       "    <tr style=\"text-align: right;\">\n",
       "      <th></th>\n",
       "      <th>total_bill</th>\n",
       "      <th>tip</th>\n",
       "      <th>size</th>\n",
       "    </tr>\n",
       "  </thead>\n",
       "  <tbody>\n",
       "    <tr>\n",
       "      <th>total_bill</th>\n",
       "      <td>1.000000</td>\n",
       "      <td>0.675734</td>\n",
       "      <td>0.598315</td>\n",
       "    </tr>\n",
       "    <tr>\n",
       "      <th>tip</th>\n",
       "      <td>0.675734</td>\n",
       "      <td>1.000000</td>\n",
       "      <td>0.489299</td>\n",
       "    </tr>\n",
       "    <tr>\n",
       "      <th>size</th>\n",
       "      <td>0.598315</td>\n",
       "      <td>0.489299</td>\n",
       "      <td>1.000000</td>\n",
       "    </tr>\n",
       "  </tbody>\n",
       "</table>\n",
       "</div>"
      ],
      "text/plain": [
       "            total_bill       tip      size\n",
       "total_bill    1.000000  0.675734  0.598315\n",
       "tip           0.675734  1.000000  0.489299\n",
       "size          0.598315  0.489299  1.000000"
      ]
     },
     "execution_count": 24,
     "metadata": {},
     "output_type": "execute_result"
    }
   ],
   "source": [
    "df.corr(numeric_only=True)"
   ]
  },
  {
   "cell_type": "code",
   "execution_count": 25,
   "id": "d38c5c5b-55bc-4273-bc24-20231a6440c7",
   "metadata": {},
   "outputs": [],
   "source": [
    "#  if there is one unit increaese in total bill then there is 67 percent chance that tip will increase in tip"
   ]
  },
  {
   "cell_type": "code",
   "execution_count": 26,
   "id": "92ae2768-c150-4d34-a2ba-d8d7696dd8da",
   "metadata": {},
   "outputs": [
    {
     "data": {
      "text/plain": [
       "<Axes: >"
      ]
     },
     "execution_count": 26,
     "metadata": {},
     "output_type": "execute_result"
    },
    {
     "data": {
      "image/png": "[encoded data removed]",
      "text/plain": [
       "<Figure size 640x480 with 2 Axes>"
      ]
     },
     "metadata": {},
     "output_type": "display_data"
    }
   ],
   "source": [
    "sns.heatmap(corr, annot=True)"
   ]
  },
  {
   "cell_type": "code",
   "execution_count": 27,
   "id": "b4653f7d-e623-41e0-953e-41e70547edcc",
   "metadata": {},
   "outputs": [
    {
     "data": {
      "text/html": [
       "<div>\n",
       "<style scoped>\n",
       "    .dataframe tbody tr th:only-of-type {\n",
       "        vertical-align: middle;\n",
       "    }\n",
       "\n",
       "    .dataframe tbody tr th {\n",
       "        vertical-align: top;\n",
       "    }\n",
       "\n",
       "    .dataframe thead th {\n",
       "        text-align: right;\n",
       "    }\n",
       "</style>\n",
       "<table border=\"1\" class=\"dataframe\">\n",
       "  <thead>\n",
       "    <tr style=\"text-align: right;\">\n",
       "      <th></th>\n",
       "      <th>total_bill</th>\n",
       "      <th>tip</th>\n",
       "      <th>size</th>\n",
       "    </tr>\n",
       "  </thead>\n",
       "  <tbody>\n",
       "    <tr>\n",
       "      <th>total_bill</th>\n",
       "      <td>79.252939</td>\n",
       "      <td>8.323502</td>\n",
       "      <td>5.065983</td>\n",
       "    </tr>\n",
       "    <tr>\n",
       "      <th>tip</th>\n",
       "      <td>8.323502</td>\n",
       "      <td>1.914455</td>\n",
       "      <td>0.643906</td>\n",
       "    </tr>\n",
       "    <tr>\n",
       "      <th>size</th>\n",
       "      <td>5.065983</td>\n",
       "      <td>0.643906</td>\n",
       "      <td>0.904591</td>\n",
       "    </tr>\n",
       "  </tbody>\n",
       "</table>\n",
       "</div>"
      ],
      "text/plain": [
       "            total_bill       tip      size\n",
       "total_bill   79.252939  8.323502  5.065983\n",
       "tip           8.323502  1.914455  0.643906\n",
       "size          5.065983  0.643906  0.904591"
      ]
     },
     "execution_count": 27,
     "metadata": {},
     "output_type": "execute_result"
    }
   ],
   "source": [
    "df.cov(numeric_only=True)"
   ]
  },
  {
   "cell_type": "code",
   "execution_count": 28,
   "id": "768e3bc0-ec33-40c7-8260-78e2997a3c55",
   "metadata": {},
   "outputs": [
    {
     "data": {
      "text/plain": [
       "<seaborn.axisgrid.PairGrid at 0x21be45a50d0>"
      ]
     },
     "execution_count": 28,
     "metadata": {},
     "output_type": "execute_result"
    },
    {
     "data": {
      "image/png": "[encoded data removed]",
      "text/plain": [
       "<Figure size 750x750 with 12 Axes>"
      ]
     },
     "metadata": {},
     "output_type": "display_data"
    }
   ],
   "source": [
    "sns.pairplot(df)"
   ]
  },
  {
   "cell_type": "code",
   "execution_count": 29,
   "id": "7187afc3-2590-4c2f-b493-8488eb6fcee3",
   "metadata": {},
   "outputs": [
    {
     "data": {
      "text/plain": [
       "<Axes: ylabel='Count'>"
      ]
     },
     "execution_count": 29,
     "metadata": {},
     "output_type": "execute_result"
    },
    {
     "data": {
      "image/png": "[encoded data removed]",
      "text/plain": [
       "<Figure size 640x480 with 1 Axes>"
      ]
     },
     "metadata": {},
     "output_type": "display_data"
    }
   ],
   "source": [
    "sns.histplot(data, kde=True)"
   ]
  },
  {
   "cell_type": "code",
   "execution_count": 30,
   "id": "44c56722-c843-4150-b562-4f8eefc4156d",
   "metadata": {},
   "outputs": [
    {
     "data": {
      "text/plain": [
       "<Axes: xlabel='total_bill', ylabel='Count'>"
      ]
     },
     "execution_count": 30,
     "metadata": {},
     "output_type": "execute_result"
    },
    {
     "data": {
      "image/png": "[encoded data removed]",
      "text/plain": [
       "<Figure size 640x480 with 1 Axes>"
      ]
     },
     "metadata": {},
     "output_type": "display_data"
    }
   ],
   "source": [
    "sns.histplot(df['total_bill'])"
   ]
  },
  {
   "cell_type": "code",
   "execution_count": 31,
   "id": "ea8eb28c-5762-4dc6-8457-6993a00ffead",
   "metadata": {},
   "outputs": [],
   "source": [
    "population = np.random.randint(10,20,50)"
   ]
  },
  {
   "cell_type": "code",
   "execution_count": 32,
   "id": "21cc6e1e-5c5d-4eaa-9a42-60bdca6cb0c6",
   "metadata": {},
   "outputs": [
    {
     "data": {
      "text/plain": [
       "array([14, 19, 11, 15, 17, 13, 12, 11, 10, 13, 13, 13, 13, 16, 10, 19, 10,\n",
       "       12, 11, 19, 10, 10, 13, 11, 17, 16, 16, 16, 12, 16, 17, 10, 10, 19,\n",
       "       19, 19, 14, 16, 11, 12, 16, 17, 15, 18, 17, 13, 19, 11, 15, 11])"
      ]
     },
     "execution_count": 32,
     "metadata": {},
     "output_type": "execute_result"
    }
   ],
   "source": [
    "population\n",
    "# len(population)"
   ]
  },
  {
   "cell_type": "code",
   "execution_count": 33,
   "id": "17be7d4a-e3c0-4e94-af56-6223d4c01d29",
   "metadata": {},
   "outputs": [
    {
     "data": {
      "text/plain": [
       "19"
      ]
     },
     "execution_count": 33,
     "metadata": {},
     "output_type": "execute_result"
    }
   ],
   "source": [
    "stats.mode(population)"
   ]
  },
  {
   "cell_type": "code",
   "execution_count": 34,
   "id": "5a2f46e5-82da-43d9-a799-f91c59c223b1",
   "metadata": {},
   "outputs": [
    {
     "data": {
      "text/plain": [
       "14.14"
      ]
     },
     "execution_count": 34,
     "metadata": {},
     "output_type": "execute_result"
    }
   ],
   "source": [
    "np.mean(population)"
   ]
  },
  {
   "cell_type": "code",
   "execution_count": 35,
   "id": "f90d7c03-f069-49ce-b6ed-f24af24b0d3d",
   "metadata": {},
   "outputs": [],
   "source": [
    "sample1 = np.random.choice(population, 20)\n",
    "sample2 = np.random.choice(population, 20)\n",
    "sample3 = np.random.choice(population, 20)\n",
    "sample4 = np.random.choice(population, 20)"
   ]
  },
  {
   "cell_type": "code",
   "execution_count": 36,
   "id": "fb4ce4ce-ea6a-43f9-879e-2f9bbff48c54",
   "metadata": {},
   "outputs": [
    {
     "data": {
      "text/plain": [
       "array([15, 19, 19, 19, 10, 11, 17, 19, 19, 13, 16, 12, 19, 11, 17, 13, 16,\n",
       "       13, 13, 10])"
      ]
     },
     "execution_count": 36,
     "metadata": {},
     "output_type": "execute_result"
    }
   ],
   "source": [
    "sample1"
   ]
  },
  {
   "cell_type": "code",
   "execution_count": 37,
   "id": "bcae7ff9-7503-40fb-8bf9-ffcb2db6a044",
   "metadata": {},
   "outputs": [
    {
     "data": {
      "text/plain": [
       "array([12, 18, 16, 13, 17, 13, 16, 10, 13, 17, 10, 11, 14, 19, 18, 12, 12,\n",
       "       10, 11, 10])"
      ]
     },
     "execution_count": 37,
     "metadata": {},
     "output_type": "execute_result"
    }
   ],
   "source": [
    "sample2"
   ]
  },
  {
   "cell_type": "code",
   "execution_count": 38,
   "id": "f4b0c534-6f08-443d-b86c-af1e468f3f05",
   "metadata": {},
   "outputs": [
    {
     "data": {
      "text/plain": [
       "array([12, 13, 16, 14, 17, 11, 11, 17, 11, 13, 12, 11, 18, 19, 10, 13, 16,\n",
       "       16, 14, 16])"
      ]
     },
     "execution_count": 38,
     "metadata": {},
     "output_type": "execute_result"
    }
   ],
   "source": [
    "sample3"
   ]
  },
  {
   "cell_type": "code",
   "execution_count": 39,
   "id": "41b25d02-e624-4359-aaf8-2204c15df165",
   "metadata": {},
   "outputs": [
    {
     "data": {
      "text/plain": [
       "array([12, 12, 19, 16, 10, 12, 12, 13, 17, 11, 10, 11, 13, 15, 19, 15, 12,\n",
       "       16, 12, 12])"
      ]
     },
     "execution_count": 39,
     "metadata": {},
     "output_type": "execute_result"
    }
   ],
   "source": [
    "sample4"
   ]
  },
  {
   "cell_type": "code",
   "execution_count": 40,
   "id": "889c57b5-cf6a-4b99-ab86-e3874817b4b8",
   "metadata": {},
   "outputs": [],
   "source": [
    "mean_of_samples= []\n",
    "all_mean =[sample1, sample2, sample3, sample4]\n",
    "\n",
    "for sample in all_mean:\n",
    "    mean_of_samples.append(np.mean(sample))"
   ]
  },
  {
   "cell_type": "code",
   "execution_count": 41,
   "id": "26cc91b0-e2be-415f-bfad-3f672422a30e",
   "metadata": {},
   "outputs": [
    {
     "data": {
      "text/plain": [
       "[15.05, 13.6, 14.0, 13.45]"
      ]
     },
     "execution_count": 41,
     "metadata": {},
     "output_type": "execute_result"
    }
   ],
   "source": [
    "mean_of_samples"
   ]
  },
  {
   "cell_type": "code",
   "execution_count": 42,
   "id": "155874cc-572e-4254-a8ea-c821b60dbd0c",
   "metadata": {},
   "outputs": [],
   "source": [
    "# central limit theorem -->for any distribution  the sample mean will be approximately to normal distribution given sample size>=30 and no of sample should be suffienect large"
   ]
  },
  {
   "cell_type": "code",
   "execution_count": 43,
   "id": "77748a97-eb58-4b4c-9678-257597e67f56",
   "metadata": {},
   "outputs": [],
   "source": [
    "population = np.random.binomial(10,0.5,10000)"
   ]
  },
  {
   "cell_type": "code",
   "execution_count": 44,
   "id": "035d25ca-628d-4174-a73d-01d86925c01c",
   "metadata": {},
   "outputs": [
    {
     "data": {
      "text/plain": [
       "array([9, 5, 4, ..., 6, 6, 7])"
      ]
     },
     "execution_count": 44,
     "metadata": {},
     "output_type": "execute_result"
    }
   ],
   "source": [
    "population"
   ]
  },
  {
   "cell_type": "code",
   "execution_count": 45,
   "id": "ac726a76-b93b-4764-b2d5-737e2a2bc9ad",
   "metadata": {},
   "outputs": [
    {
     "data": {
      "text/plain": [
       "<Axes: ylabel='Density'>"
      ]
     },
     "execution_count": 45,
     "metadata": {},
     "output_type": "execute_result"
    },
    {
     "data": {
      "image/png": "[encoded data removed]",
      "text/plain": [
       "<Figure size 640x480 with 1 Axes>"
      ]
     },
     "metadata": {},
     "output_type": "display_data"
    }
   ],
   "source": [
    "sns.distplot(population)"
   ]
  },
  {
   "cell_type": "code",
   "execution_count": 46,
   "id": "2c0ec1a3-b8d2-4c95-8b3b-9e65225b6288",
   "metadata": {},
   "outputs": [],
   "source": [
    "sample_size=3000\n",
    "\n",
    "mean_of_sample= []\n",
    "\n",
    "for i in range(1,10000):\n",
    "    sample= np.random.choice(population, size=sample_size)\n",
    "    mean_of_sample.append(np.mean(sample))"
   ]
  },
  {
   "cell_type": "code",
   "execution_count": 47,
   "id": "66ca5e2f-6abc-435f-9d9e-8ea1effee16d",
   "metadata": {},
   "outputs": [
    {
     "data": {
      "text/plain": [
       "<Axes: ylabel='Density'>"
      ]
     },
     "execution_count": 47,
     "metadata": {},
     "output_type": "execute_result"
    },
    {
     "data": {
      "image/png": "[encoded data removed]",
      "text/plain": [
       "<Figure size 640x480 with 1 Axes>"
      ]
     },
     "metadata": {},
     "output_type": "display_data"
    }
   ],
   "source": [
    "sns.distplot(mean_of_sample, kde=True, color=\"red\")"
   ]
  },
  {
   "cell_type": "code",
   "execution_count": 48,
   "id": "c6bed74b-4438-410e-ba37-d12de33374ab",
   "metadata": {},
   "outputs": [
    {
     "data": {
      "text/plain": [
       "5.018751208454179"
      ]
     },
     "execution_count": 48,
     "metadata": {},
     "output_type": "execute_result"
    }
   ],
   "source": [
    "np.mean(mean_of_sample)"
   ]
  },
  {
   "cell_type": "code",
   "execution_count": 49,
   "id": "7b4827f1-9631-468c-9a0d-044334e460a4",
   "metadata": {},
   "outputs": [
    {
     "data": {
      "text/plain": [
       "5.018666666666666"
      ]
     },
     "execution_count": 49,
     "metadata": {},
     "output_type": "execute_result"
    }
   ],
   "source": [
    "np.median(mean_of_sample)     #mean=median=mode"
   ]
  },
  {
   "cell_type": "markdown",
   "id": "c63d081c-f030-4c02-8a47-d436aa1334d8",
   "metadata": {},
   "source": [
    "hypothesis"
   ]
  },
  {
   "cell_type": "code",
   "execution_count": 50,
   "id": "d388dec2-c60f-4a0c-80d8-c7de9299ea80",
   "metadata": {},
   "outputs": [
    {
     "data": {
      "text/plain": [
       "[5.06,\n",
       " 5.016333333333334,\n",
       " 5.0183333333333335,\n",
       " 5.036,\n",
       " 5.027666666666667,\n",
       " 5.0103333333333335,\n",
       " 4.968,\n",
       " 5.062333333333333,\n",
       " 5.016333333333334,\n",
       " 4.994666666666666,\n",
       " 5.0136666666666665,\n",
       " 5.040666666666667,\n",
       " 5.021333333333334,\n",
       " 5.0343333333333335,\n",
       " 5.010666666666666,\n",
       " 5.008333333333334,\n",
       " 5.039,\n",
       " 5.005,\n",
       " 5.021333333333334,\n",
       " 5.004,\n",
       " 4.985333333333333,\n",
       " 5.017,\n",
       " 4.990333333333333,\n",
       " 4.996666666666667,\n",
       " 5.014666666666667,\n",
       " 5.010666666666666,\n",
       " 5.084,\n",
       " 5.049,\n",
       " 5.056,\n",
       " 5.068666666666667,\n",
       " 5.007666666666666,\n",
       " 5.036666666666667,\n",
       " 5.002,\n",
       " 4.983333333333333,\n",
       " 5.016333333333334,\n",
       " 5.035,\n",
       " 5.009666666666667,\n",
       " 5.0343333333333335,\n",
       " 5.049333333333333,\n",
       " 5.022,\n",
       " 4.996,\n",
       " 5.001333333333333,\n",
       " 4.997333333333334,\n",
       " 5.042,\n",
       " 5.054333333333333,\n",
       " 5.019666666666667,\n",
       " 5.0296666666666665,\n",
       " 5.04,\n",
       " 5.003666666666667,\n",
       " 5.033333333333333,\n",
       " 5.000333333333334,\n",
       " 5.051333333333333,\n",
       " 5.037,\n",
       " 5.019,\n",
       " 4.977666666666667,\n",
       " 5.075,\n",
       " 4.961333333333333,\n",
       " 4.9783333333333335,\n",
       " 5.024666666666667,\n",
       " 5.007333333333333,\n",
       " 5.035,\n",
       " 5.026,\n",
       " 4.996666666666667,\n",
       " 5.000333333333334,\n",
       " 5.0,\n",
       " 5.04,\n",
       " 5.057666666666667,\n",
       " 4.960666666666667,\n",
       " 5.038333333333333,\n",
       " 4.974666666666667,\n",
       " 5.028333333333333,\n",
       " 4.946666666666666,\n",
       " 5.021,\n",
       " 5.02,\n",
       " 5.0376666666666665,\n",
       " 4.988,\n",
       " 4.987666666666667,\n",
       " 5.016666666666667,\n",
       " 5.035,\n",
       " 4.998333333333333,\n",
       " 5.010666666666666,\n",
       " 5.006333333333333,\n",
       " 4.991333333333333,\n",
       " 4.986666666666666,\n",
       " 5.075333333333333,\n",
       " 4.958666666666667,\n",
       " 5.017333333333333,\n",
       " 5.017333333333333,\n",
       " 5.009666666666667,\n",
       " 5.008,\n",
       " 4.993333333333333,\n",
       " 5.0633333333333335,\n",
       " 5.052,\n",
       " 5.047,\n",
       " 5.03,\n",
       " 5.012,\n",
       " 5.01,\n",
       " 5.03,\n",
       " 5.05,\n",
       " 5.037333333333334,\n",
       " 5.019,\n",
       " 5.010666666666666,\n",
       " 5.02,\n",
       " 5.058,\n",
       " 5.048666666666667,\n",
       " 5.043333333333333,\n",
       " 5.003,\n",
       " 5.045333333333334,\n",
       " 5.000666666666667,\n",
       " 5.041333333333333,\n",
       " 5.062333333333333,\n",
       " 5.0216666666666665,\n",
       " 5.0343333333333335,\n",
       " 5.0696666666666665,\n",
       " 5.014333333333333,\n",
       " 5.011666666666667,\n",
       " 5.017,\n",
       " 5.062,\n",
       " 5.004333333333333,\n",
       " 5.0183333333333335,\n",
       " 4.9863333333333335,\n",
       " 5.047666666666666,\n",
       " 5.037,\n",
       " 5.029,\n",
       " 5.038333333333333,\n",
       " 4.979,\n",
       " 5.019,\n",
       " 5.001333333333333,\n",
       " 4.963666666666667,\n",
       " 5.034666666666666,\n",
       " 4.980666666666667,\n",
       " 4.960333333333334,\n",
       " 5.04,\n",
       " 5.0183333333333335,\n",
       " 5.011666666666667,\n",
       " 4.99,\n",
       " 5.008333333333334,\n",
       " 4.974666666666667,\n",
       " 4.985666666666667,\n",
       " 5.036,\n",
       " 4.992666666666667,\n",
       " 5.004,\n",
       " 5.063,\n",
       " 5.052333333333333,\n",
       " 5.017333333333333,\n",
       " 5.083333333333333,\n",
       " 5.007,\n",
       " 5.052666666666667,\n",
       " 5.012,\n",
       " 5.03,\n",
       " 4.999333333333333,\n",
       " 5.023333333333333,\n",
       " 5.060333333333333,\n",
       " 5.0216666666666665,\n",
       " 4.998333333333333,\n",
       " 5.006,\n",
       " 4.931666666666667,\n",
       " 4.991333333333333,\n",
       " 5.012333333333333,\n",
       " 4.959,\n",
       " 5.006,\n",
       " 5.016333333333334,\n",
       " 5.101333333333334,\n",
       " 5.011333333333333,\n",
       " 5.051333333333333,\n",
       " 4.992333333333334,\n",
       " 4.995666666666667,\n",
       " 5.006,\n",
       " 5.0536666666666665,\n",
       " 5.033666666666667,\n",
       " 5.072,\n",
       " 5.024666666666667,\n",
       " 4.992666666666667,\n",
       " 5.021333333333334,\n",
       " 4.996333333333333,\n",
       " 5.065666666666667,\n",
       " 5.034666666666666,\n",
       " 5.035666666666667,\n",
       " 5.0103333333333335,\n",
       " 5.019333333333333,\n",
       " 4.9976666666666665,\n",
       " 5.073666666666667,\n",
       " 5.019666666666667,\n",
       " 5.013333333333334,\n",
       " 5.016666666666667,\n",
       " 5.006,\n",
       " 4.993666666666667,\n",
       " 5.078333333333333,\n",
       " 5.031333333333333,\n",
       " 5.0616666666666665,\n",
       " 5.060666666666667,\n",
       " 5.050333333333334,\n",
       " 4.957333333333334,\n",
       " 5.039,\n",
       " 4.967,\n",
       " 5.020666666666667,\n",
       " 5.057333333333333,\n",
       " 5.068,\n",
       " 4.986666666666666,\n",
       " 5.032333333333334,\n",
       " 5.028666666666667,\n",
       " 5.029,\n",
       " 5.003333333333333,\n",
       " 5.017,\n",
       " 5.001,\n",
       " 4.999666666666666,\n",
       " 5.033333333333333,\n",
       " 5.032666666666667,\n",
       " 4.930666666666666,\n",
       " 4.986666666666666,\n",
       " 5.033,\n",
       " 5.013,\n",
       " 5.009333333333333,\n",
       " 5.001333333333333,\n",
       " 5.012333333333333,\n",
       " 4.970666666666666,\n",
       " 5.026666666666666,\n",
       " 4.992666666666667,\n",
       " 5.056333333333333,\n",
       " 4.993,\n",
       " 4.969,\n",
       " 5.085333333333334,\n",
       " 5.007,\n",
       " 4.981333333333334,\n",
       " 4.979,\n",
       " 5.1,\n",
       " 5.039,\n",
       " 4.964,\n",
       " 4.989,\n",
       " 5.071,\n",
       " 5.037333333333334,\n",
       " 5.008,\n",
       " 4.993333333333333,\n",
       " 4.987333333333333,\n",
       " 5.030333333333333,\n",
       " 4.9623333333333335,\n",
       " 5.032,\n",
       " 5.046666666666667,\n",
       " 5.054333333333333,\n",
       " 5.044333333333333,\n",
       " 5.052666666666667,\n",
       " 4.998666666666667,\n",
       " 5.019,\n",
       " 5.085333333333334,\n",
       " 5.017,\n",
       " 5.017,\n",
       " 5.04,\n",
       " 5.002,\n",
       " 5.045,\n",
       " 4.999333333333333,\n",
       " 5.051,\n",
       " 5.062333333333333,\n",
       " 5.020666666666667,\n",
       " 5.014,\n",
       " 4.998,\n",
       " 4.996,\n",
       " 4.983666666666666,\n",
       " 5.034,\n",
       " 5.075333333333333,\n",
       " 5.027333333333333,\n",
       " 5.026,\n",
       " 5.038,\n",
       " 5.061333333333334,\n",
       " 4.995333333333333,\n",
       " 4.992666666666667,\n",
       " 5.002666666666666,\n",
       " 4.994666666666666,\n",
       " 4.991333333333333,\n",
       " 4.9623333333333335,\n",
       " 4.991333333333333,\n",
       " 5.015,\n",
       " 5.024,\n",
       " 5.015,\n",
       " 5.0456666666666665,\n",
       " 5.009333333333333,\n",
       " 4.997333333333334,\n",
       " 5.049,\n",
       " 5.062,\n",
       " 5.0343333333333335,\n",
       " 5.073333333333333,\n",
       " 4.955,\n",
       " 4.979,\n",
       " 4.99,\n",
       " 5.001666666666667,\n",
       " 4.993333333333333,\n",
       " 5.073666666666667,\n",
       " 5.01,\n",
       " 5.051,\n",
       " 5.025666666666667,\n",
       " 5.023333333333333,\n",
       " 5.004,\n",
       " 4.979,\n",
       " 4.974333333333333,\n",
       " 5.048,\n",
       " 4.972666666666667,\n",
       " 5.068666666666667,\n",
       " 4.988333333333333,\n",
       " 5.002,\n",
       " 5.058,\n",
       " 5.001,\n",
       " 4.983666666666666,\n",
       " 5.031333333333333,\n",
       " 5.014333333333333,\n",
       " 5.042,\n",
       " 5.006,\n",
       " 5.0,\n",
       " 4.9543333333333335,\n",
       " 5.025666666666667,\n",
       " 5.004,\n",
       " 5.067333333333333,\n",
       " 5.043666666666667,\n",
       " 4.960666666666667,\n",
       " 5.014333333333333,\n",
       " 4.985666666666667,\n",
       " 5.0183333333333335,\n",
       " 5.053333333333334,\n",
       " 4.997333333333334,\n",
       " 5.015666666666666,\n",
       " 5.005333333333334,\n",
       " 4.973333333333334,\n",
       " 5.039333333333333,\n",
       " 5.015,\n",
       " 5.101333333333334,\n",
       " 5.000666666666667,\n",
       " 5.004,\n",
       " 5.063666666666666,\n",
       " 4.998,\n",
       " 5.041333333333333,\n",
       " 5.0873333333333335,\n",
       " 5.019333333333333,\n",
       " 5.0263333333333335,\n",
       " 4.993333333333333,\n",
       " 4.981333333333334,\n",
       " 5.020333333333333,\n",
       " 5.028666666666667,\n",
       " 4.9943333333333335,\n",
       " 5.022666666666667,\n",
       " 5.048,\n",
       " 5.033333333333333,\n",
       " 4.986666666666666,\n",
       " 5.006666666666667,\n",
       " 5.057,\n",
       " 5.017333333333333,\n",
       " 5.014333333333333,\n",
       " 5.005333333333334,\n",
       " 5.006666666666667,\n",
       " 5.033333333333333,\n",
       " 4.968333333333334,\n",
       " 4.999666666666666,\n",
       " 5.002666666666666,\n",
       " 5.0633333333333335,\n",
       " 4.990666666666667,\n",
       " 5.073666666666667,\n",
       " 4.991666666666666,\n",
       " 4.982666666666667,\n",
       " 5.020333333333333,\n",
       " 5.069,\n",
       " 5.0103333333333335,\n",
       " 5.059333333333333,\n",
       " 5.022,\n",
       " 5.058666666666666,\n",
       " 5.005333333333334,\n",
       " 5.053333333333334,\n",
       " 5.082,\n",
       " 5.011,\n",
       " 4.988333333333333,\n",
       " 4.959666666666666,\n",
       " 5.008,\n",
       " 5.0296666666666665,\n",
       " 5.044333333333333,\n",
       " 4.969,\n",
       " 5.015666666666666,\n",
       " 5.007666666666666,\n",
       " 5.014333333333333,\n",
       " 5.021333333333334,\n",
       " 4.985666666666667,\n",
       " 5.0,\n",
       " 5.029333333333334,\n",
       " 5.007666666666666,\n",
       " 4.999666666666666,\n",
       " 5.049333333333333,\n",
       " 4.986666666666666,\n",
       " 4.9976666666666665,\n",
       " 4.991,\n",
       " 5.075666666666667,\n",
       " 5.0183333333333335,\n",
       " 5.037,\n",
       " 5.048333333333333,\n",
       " 5.022333333333333,\n",
       " 5.007333333333333,\n",
       " 4.996666666666667,\n",
       " 5.017333333333333,\n",
       " 5.040666666666667,\n",
       " 5.023,\n",
       " 5.052333333333333,\n",
       " 5.060333333333333,\n",
       " 5.006333333333333,\n",
       " 5.023,\n",
       " 5.007666666666666,\n",
       " 4.987333333333333,\n",
       " 5.005,\n",
       " 5.024,\n",
       " 4.961,\n",
       " 5.011333333333333,\n",
       " 5.021,\n",
       " 5.0103333333333335,\n",
       " 5.044333333333333,\n",
       " 4.977333333333333,\n",
       " 5.013333333333334,\n",
       " 4.961333333333333,\n",
       " 4.985,\n",
       " 4.999,\n",
       " 5.023,\n",
       " 5.032666666666667,\n",
       " 5.035,\n",
       " 5.048666666666667,\n",
       " 5.043,\n",
       " 5.075333333333333,\n",
       " 5.030333333333333,\n",
       " 5.0343333333333335,\n",
       " 5.027666666666667,\n",
       " 5.0553333333333335,\n",
       " 5.067,\n",
       " 5.067666666666667,\n",
       " 5.063,\n",
       " 5.042,\n",
       " 5.023333333333333,\n",
       " 5.03,\n",
       " 5.014333333333333,\n",
       " 5.022666666666667,\n",
       " 5.017666666666667,\n",
       " 5.023,\n",
       " 5.031333333333333,\n",
       " 5.017333333333333,\n",
       " 4.994,\n",
       " 5.026666666666666,\n",
       " 5.050666666666666,\n",
       " 5.035666666666667,\n",
       " 4.981,\n",
       " 5.008666666666667,\n",
       " 5.041666666666667,\n",
       " 4.951666666666667,\n",
       " 5.031,\n",
       " 5.030333333333333,\n",
       " 4.998333333333333,\n",
       " 4.981333333333334,\n",
       " 5.020666666666667,\n",
       " 5.003666666666667,\n",
       " 4.982,\n",
       " 5.004333333333333,\n",
       " 5.0263333333333335,\n",
       " 5.0103333333333335,\n",
       " 5.032666666666667,\n",
       " 5.014333333333333,\n",
       " 5.033,\n",
       " 5.035333333333333,\n",
       " 5.030666666666667,\n",
       " 5.019,\n",
       " 5.101,\n",
       " 5.007,\n",
       " 5.063,\n",
       " 5.045333333333334,\n",
       " 4.976,\n",
       " 5.022,\n",
       " 4.973,\n",
       " 5.016,\n",
       " 5.061333333333334,\n",
       " 5.037333333333334,\n",
       " 5.018,\n",
       " 4.994,\n",
       " 5.012,\n",
       " 5.044333333333333,\n",
       " 5.008,\n",
       " 5.0553333333333335,\n",
       " 5.048333333333333,\n",
       " 5.065666666666667,\n",
       " 5.032666666666667,\n",
       " 4.982666666666667,\n",
       " 5.082,\n",
       " 5.030333333333333,\n",
       " 5.027666666666667,\n",
       " 4.989333333333334,\n",
       " 4.987666666666667,\n",
       " 4.984666666666667,\n",
       " 5.031666666666666,\n",
       " 4.972,\n",
       " 5.048666666666667,\n",
       " 5.000333333333334,\n",
       " 5.0103333333333335,\n",
       " 5.035,\n",
       " 5.001,\n",
       " 5.057666666666667,\n",
       " 5.0296666666666665,\n",
       " 5.01,\n",
       " 4.990333333333333,\n",
       " 4.990333333333333,\n",
       " 5.021,\n",
       " 5.0103333333333335,\n",
       " 5.085666666666667,\n",
       " 4.989,\n",
       " 5.030666666666667,\n",
       " 5.010666666666666,\n",
       " 4.9896666666666665,\n",
       " 5.0183333333333335,\n",
       " 5.030333333333333,\n",
       " 5.008666666666667,\n",
       " 5.007666666666666,\n",
       " 5.01,\n",
       " 4.969666666666667,\n",
       " 4.9896666666666665,\n",
       " 5.032333333333334,\n",
       " 5.048333333333333,\n",
       " 5.0456666666666665,\n",
       " 5.040666666666667,\n",
       " 5.041,\n",
       " 4.984666666666667,\n",
       " 5.030333333333333,\n",
       " 4.984,\n",
       " 5.02,\n",
       " 4.983333333333333,\n",
       " 4.9943333333333335,\n",
       " 4.928333333333334,\n",
       " 5.008666666666667,\n",
       " 5.019333333333333,\n",
       " 5.070333333333333,\n",
       " 5.049333333333333,\n",
       " 5.033,\n",
       " 5.042,\n",
       " 5.008333333333334,\n",
       " 5.026666666666666,\n",
       " 4.974,\n",
       " 5.027333333333333,\n",
       " 4.9736666666666665,\n",
       " 4.969333333333333,\n",
       " 5.017,\n",
       " 5.001333333333333,\n",
       " 4.995666666666667,\n",
       " 4.979,\n",
       " 5.0216666666666665,\n",
       " 5.061333333333334,\n",
       " 5.012333333333333,\n",
       " 5.067333333333333,\n",
       " 5.004666666666667,\n",
       " 5.0296666666666665,\n",
       " 4.995333333333333,\n",
       " 5.041,\n",
       " 5.0296666666666665,\n",
       " 5.054666666666667,\n",
       " 5.022666666666667,\n",
       " 5.023666666666666,\n",
       " 4.990666666666667,\n",
       " 5.07,\n",
       " 5.017333333333333,\n",
       " 4.980666666666667,\n",
       " 4.993333333333333,\n",
       " 5.006,\n",
       " 5.015666666666666,\n",
       " 4.988666666666667,\n",
       " 5.059666666666667,\n",
       " 5.0,\n",
       " 5.008,\n",
       " 5.036666666666667,\n",
       " 5.001333333333333,\n",
       " 5.0183333333333335,\n",
       " 5.006333333333333,\n",
       " 5.006333333333333,\n",
       " 4.992666666666667,\n",
       " 5.0216666666666665,\n",
       " 5.004333333333333,\n",
       " 5.006666666666667,\n",
       " 5.006333333333333,\n",
       " 5.06,\n",
       " 5.066666666666666,\n",
       " 5.049,\n",
       " 4.958666666666667,\n",
       " 5.003333333333333,\n",
       " 5.027,\n",
       " 5.020666666666667,\n",
       " 5.0376666666666665,\n",
       " 5.031,\n",
       " 5.018,\n",
       " 5.008333333333334,\n",
       " 5.0263333333333335,\n",
       " 5.027666666666667,\n",
       " 5.048666666666667,\n",
       " 4.999,\n",
       " 5.036,\n",
       " 5.0023333333333335,\n",
       " 5.0696666666666665,\n",
       " 5.0103333333333335,\n",
       " 5.037,\n",
       " 5.019,\n",
       " 5.005333333333334,\n",
       " 5.026666666666666,\n",
       " 4.983333333333333,\n",
       " 4.9526666666666666,\n",
       " 5.053333333333334,\n",
       " 5.013,\n",
       " 5.0343333333333335,\n",
       " 5.018666666666666,\n",
       " 4.991333333333333,\n",
       " 5.064,\n",
       " 4.984,\n",
       " 5.016666666666667,\n",
       " 5.015666666666666,\n",
       " 5.074333333333334,\n",
       " 5.036333333333333,\n",
       " 5.034666666666666,\n",
       " 5.097333333333333,\n",
       " 5.036333333333333,\n",
       " 5.0136666666666665,\n",
       " 5.030666666666667,\n",
       " 5.0536666666666665,\n",
       " 5.033666666666667,\n",
       " 5.019666666666667,\n",
       " 5.056,\n",
       " 5.038,\n",
       " 5.030666666666667,\n",
       " 5.005,\n",
       " 5.068,\n",
       " 5.026,\n",
       " 4.967,\n",
       " 5.023333333333333,\n",
       " 5.016,\n",
       " 5.005,\n",
       " 5.0376666666666665,\n",
       " 4.998,\n",
       " 5.024333333333334,\n",
       " 5.006,\n",
       " 5.012,\n",
       " 5.031666666666666,\n",
       " 5.016666666666667,\n",
       " 5.014,\n",
       " 4.999333333333333,\n",
       " 5.015,\n",
       " 4.976,\n",
       " 5.0056666666666665,\n",
       " 5.031333333333333,\n",
       " 4.957666666666666,\n",
       " 4.992666666666667,\n",
       " 5.014666666666667,\n",
       " 5.0136666666666665,\n",
       " 5.035,\n",
       " 5.038,\n",
       " 4.986,\n",
       " 5.039333333333333,\n",
       " 5.020666666666667,\n",
       " 5.008,\n",
       " 4.997333333333334,\n",
       " 5.026,\n",
       " 5.003666666666667,\n",
       " 5.012333333333333,\n",
       " 4.993,\n",
       " 5.060333333333333,\n",
       " 5.032333333333334,\n",
       " 5.061,\n",
       " 5.074,\n",
       " 5.02,\n",
       " 5.049,\n",
       " 5.006333333333333,\n",
       " 5.007666666666666,\n",
       " 4.994666666666666,\n",
       " 5.009333333333333,\n",
       " 5.011333333333333,\n",
       " 5.04,\n",
       " 5.056666666666667,\n",
       " 5.051,\n",
       " 5.014,\n",
       " 5.020333333333333,\n",
       " 5.074,\n",
       " 4.984,\n",
       " 4.974666666666667,\n",
       " 5.010666666666666,\n",
       " 4.974,\n",
       " 5.026666666666666,\n",
       " 5.032,\n",
       " 5.028,\n",
       " 5.052,\n",
       " 5.033333333333333,\n",
       " 5.048333333333333,\n",
       " 5.041666666666667,\n",
       " 4.977666666666667,\n",
       " 5.0456666666666665,\n",
       " 5.045,\n",
       " 5.046,\n",
       " 5.034,\n",
       " 4.982666666666667,\n",
       " 4.979,\n",
       " 5.023666666666666,\n",
       " 5.009333333333333,\n",
       " 4.990333333333333,\n",
       " 5.043,\n",
       " 5.036666666666667,\n",
       " 5.011666666666667,\n",
       " 5.052333333333333,\n",
       " 5.028666666666667,\n",
       " 5.041333333333333,\n",
       " 5.038333333333333,\n",
       " 4.9463333333333335,\n",
       " 5.011,\n",
       " 4.9816666666666665,\n",
       " 5.016333333333334,\n",
       " 4.963,\n",
       " 5.031333333333333,\n",
       " 5.030333333333333,\n",
       " 4.993333333333333,\n",
       " 5.053,\n",
       " 4.976333333333334,\n",
       " 5.032666666666667,\n",
       " 5.048333333333333,\n",
       " 5.072333333333333,\n",
       " 4.9943333333333335,\n",
       " 5.019333333333333,\n",
       " 4.962666666666666,\n",
       " 5.000333333333334,\n",
       " 5.075,\n",
       " 5.044666666666667,\n",
       " 5.004666666666667,\n",
       " 5.04,\n",
       " 4.978,\n",
       " 5.086666666666667,\n",
       " 5.024,\n",
       " 5.0183333333333335,\n",
       " 5.0103333333333335,\n",
       " 5.064666666666667,\n",
       " 5.03,\n",
       " 5.01,\n",
       " 5.001,\n",
       " 5.063666666666666,\n",
       " 5.035333333333333,\n",
       " 5.024,\n",
       " 5.06,\n",
       " 5.024666666666667,\n",
       " 4.993666666666667,\n",
       " 5.032666666666667,\n",
       " 4.995666666666667,\n",
       " 5.013,\n",
       " 5.009333333333333,\n",
       " 5.000333333333334,\n",
       " 5.0263333333333335,\n",
       " 5.025666666666667,\n",
       " 5.017,\n",
       " 5.022333333333333,\n",
       " 4.998333333333333,\n",
       " 5.000666666666667,\n",
       " 5.020333333333333,\n",
       " 4.983,\n",
       " 5.015,\n",
       " 5.010666666666666,\n",
       " 5.038333333333333,\n",
       " 4.990666666666667,\n",
       " 4.991,\n",
       " 4.945,\n",
       " 5.025,\n",
       " 4.987,\n",
       " 5.009,\n",
       " 5.015666666666666,\n",
       " 4.968666666666667,\n",
       " 5.022666666666667,\n",
       " 5.028333333333333,\n",
       " 5.058,\n",
       " 4.97,\n",
       " 4.954666666666666,\n",
       " 5.003666666666667,\n",
       " 5.0216666666666665,\n",
       " 5.014333333333333,\n",
       " 5.020333333333333,\n",
       " 5.022333333333333,\n",
       " 5.033333333333333,\n",
       " 5.034,\n",
       " 5.009,\n",
       " 5.039666666666666,\n",
       " 4.995666666666667,\n",
       " 5.049333333333333,\n",
       " 5.058,\n",
       " 4.990666666666667,\n",
       " 5.035333333333333,\n",
       " 5.017666666666667,\n",
       " 5.036,\n",
       " 4.985333333333333,\n",
       " 4.983666666666666,\n",
       " 5.031,\n",
       " 4.996666666666667,\n",
       " 4.987,\n",
       " 5.036666666666667,\n",
       " 5.023666666666666,\n",
       " 4.99,\n",
       " 5.026666666666666,\n",
       " 5.041333333333333,\n",
       " 5.014,\n",
       " 5.033,\n",
       " 5.035333333333333,\n",
       " 5.006,\n",
       " 4.999666666666666,\n",
       " 4.994666666666666,\n",
       " 4.992,\n",
       " 5.008333333333334,\n",
       " 4.974333333333333,\n",
       " 5.004333333333333,\n",
       " 5.023666666666666,\n",
       " 5.021333333333334,\n",
       " 4.993666666666667,\n",
       " 5.014,\n",
       " 5.025,\n",
       " 5.029333333333334,\n",
       " 5.020666666666667,\n",
       " 5.013333333333334,\n",
       " 5.021333333333334,\n",
       " 5.003333333333333,\n",
       " 5.024333333333334,\n",
       " 4.964333333333333,\n",
       " 5.013333333333334,\n",
       " 5.011666666666667,\n",
       " 5.0,\n",
       " 5.069333333333334,\n",
       " 5.040333333333334,\n",
       " 5.011,\n",
       " 5.056666666666667,\n",
       " 5.007,\n",
       " 5.003333333333333,\n",
       " 5.047,\n",
       " 5.033333333333333,\n",
       " 4.934333333333333,\n",
       " 5.045333333333334,\n",
       " 5.016,\n",
       " 5.017333333333333,\n",
       " 5.018666666666666,\n",
       " 4.975,\n",
       " 4.942333333333333,\n",
       " 5.024,\n",
       " 5.008,\n",
       " 5.019666666666667,\n",
       " 5.028,\n",
       " 4.983333333333333,\n",
       " 4.979333333333333,\n",
       " 5.103,\n",
       " 5.033333333333333,\n",
       " 5.028666666666667,\n",
       " 5.049333333333333,\n",
       " 5.022666666666667,\n",
       " 4.995,\n",
       " 4.998,\n",
       " 5.09,\n",
       " 5.041333333333333,\n",
       " 5.026666666666666,\n",
       " 5.014666666666667,\n",
       " 5.0,\n",
       " 5.04,\n",
       " 4.964333333333333,\n",
       " 5.011,\n",
       " 5.018666666666666,\n",
       " 5.073333333333333,\n",
       " 5.023333333333333,\n",
       " 5.047666666666666,\n",
       " 5.017666666666667,\n",
       " 5.025333333333333,\n",
       " 5.036666666666667,\n",
       " 5.016333333333334,\n",
       " 5.017666666666667,\n",
       " 5.047666666666666,\n",
       " 5.009333333333333,\n",
       " 5.019666666666667,\n",
       " 5.017,\n",
       " 5.039,\n",
       " 5.037,\n",
       " 5.016333333333334,\n",
       " 5.034,\n",
       " 5.016,\n",
       " 5.032666666666667,\n",
       " 5.0536666666666665,\n",
       " 5.042333333333334,\n",
       " 4.997333333333334,\n",
       " 5.0103333333333335,\n",
       " 5.011333333333333,\n",
       " 5.019333333333333,\n",
       " 5.044,\n",
       " 4.977,\n",
       " 5.016666666666667,\n",
       " 5.0056666666666665,\n",
       " 4.987,\n",
       " 4.987,\n",
       " 5.001333333333333,\n",
       " 5.073,\n",
       " 5.019666666666667,\n",
       " 4.998,\n",
       " 4.984333333333334,\n",
       " 5.009333333333333,\n",
       " 5.030666666666667,\n",
       " 4.965,\n",
       " 5.011333333333333,\n",
       " 5.007,\n",
       " 5.056666666666667,\n",
       " 5.034666666666666,\n",
       " 5.0536666666666665,\n",
       " 5.029333333333334,\n",
       " 5.027333333333333,\n",
       " 5.038333333333333,\n",
       " 5.023,\n",
       " 5.025,\n",
       " 5.043333333333333,\n",
       " 5.012666666666667,\n",
       " 5.003666666666667,\n",
       " 4.979,\n",
       " 5.021,\n",
       " 5.011,\n",
       " 5.014666666666667,\n",
       " 5.027666666666667,\n",
       " 5.0023333333333335,\n",
       " 4.960666666666667,\n",
       " 4.984,\n",
       " 5.028333333333333,\n",
       " 5.021,\n",
       " 4.98,\n",
       " 5.01,\n",
       " 5.059666666666667,\n",
       " 5.038333333333333,\n",
       " 4.9703333333333335,\n",
       " 5.046333333333333,\n",
       " 5.023,\n",
       " 5.01,\n",
       " 5.066666666666666,\n",
       " 5.034,\n",
       " 5.065,\n",
       " 5.015,\n",
       " 4.993,\n",
       " 4.957,\n",
       " 5.019333333333333,\n",
       " 5.039333333333333,\n",
       " 4.994666666666666,\n",
       " 5.038333333333333,\n",
       " 5.000333333333334,\n",
       " 5.005333333333334,\n",
       " 5.051666666666667,\n",
       " 5.012666666666667,\n",
       " 5.021333333333334,\n",
       " 5.004666666666667,\n",
       " 5.000666666666667,\n",
       " 5.026,\n",
       " 5.067333333333333,\n",
       " 5.049,\n",
       " 5.025,\n",
       " 5.046333333333333,\n",
       " 5.0536666666666665,\n",
       " 5.095666666666666,\n",
       " 5.096333333333333,\n",
       " 5.018,\n",
       " 5.029,\n",
       " 5.01,\n",
       " 5.046666666666667,\n",
       " 5.031333333333333,\n",
       " 5.042666666666666,\n",
       " 5.033333333333333,\n",
       " 4.979333333333333,\n",
       " 5.036,\n",
       " 4.999666666666666,\n",
       " 5.012,\n",
       " 5.035333333333333,\n",
       " 4.984666666666667,\n",
       " 5.001333333333333,\n",
       " 4.996333333333333,\n",
       " 5.034,\n",
       " 5.034666666666666,\n",
       " 5.014666666666667,\n",
       " 5.042,\n",
       " 5.061333333333334,\n",
       " 4.999333333333333,\n",
       " 5.049666666666667,\n",
       " 5.013,\n",
       " 5.026,\n",
       " 4.995666666666667,\n",
       " 4.981333333333334,\n",
       " 5.049333333333333,\n",
       " 4.998,\n",
       " 5.036333333333333,\n",
       " 5.03,\n",
       " 4.951,\n",
       " 5.023666666666666,\n",
       " 4.975666666666666,\n",
       " 5.052666666666667,\n",
       " 5.059,\n",
       " 5.061,\n",
       " 4.996333333333333,\n",
       " 5.023,\n",
       " 4.998333333333333,\n",
       " 5.051333333333333,\n",
       " 5.039666666666666,\n",
       " 5.033333333333333,\n",
       " 5.032666666666667,\n",
       " 4.979333333333333,\n",
       " 5.025,\n",
       " 5.001666666666667,\n",
       " 4.9783333333333335,\n",
       " 5.004333333333333,\n",
       " 4.979666666666667,\n",
       " 5.001333333333333,\n",
       " 5.043,\n",
       " 4.995333333333333,\n",
       " 4.955333333333333,\n",
       " 5.040666666666667,\n",
       " 4.989333333333334,\n",
       " ...]"
      ]
     },
     "execution_count": 50,
     "metadata": {},
     "output_type": "execute_result"
    }
   ],
   "source": [
    "mean_of_sample"
   ]
  },
  {
   "cell_type": "code",
   "execution_count": 51,
   "id": "e870c1b2-ba6c-487b-96ec-bae5264fc90c",
   "metadata": {},
   "outputs": [
    {
     "data": {
      "text/plain": [
       "1.959963984540054"
      ]
     },
     "execution_count": 51,
     "metadata": {},
     "output_type": "execute_result"
    }
   ],
   "source": [
    "z_critical= sts.norm.ppf(q=0.975)  #z critical for given alpha , ztable norm normal distributioon with alpha 95%\n",
    "z_critical"
   ]
  },
  {
   "cell_type": "code",
   "execution_count": 52,
   "id": "9dd8dba3-ad44-49b3-ad3b-723833df6716",
   "metadata": {},
   "outputs": [
    {
     "data": {
      "text/plain": [
       "1.973994288847133"
      ]
     },
     "execution_count": 52,
     "metadata": {},
     "output_type": "execute_result"
    }
   ],
   "source": [
    "# t critical for given alpha , ttable\n",
    "sts.t.ppf(df=24,q=0.97)"
   ]
  },
  {
   "cell_type": "markdown",
   "id": "7f8f7959-f14e-4ab0-8d16-9b0306fd3696",
   "metadata": {},
   "source": [
    "margin of error"
   ]
  },
  {
   "cell_type": "code",
   "execution_count": 53,
   "id": "152fb763-8611-4131-a117-28f562d30472",
   "metadata": {},
   "outputs": [
    {
     "data": {
      "text/plain": [
       "0.012671095498422229"
      ]
     },
     "execution_count": 53,
     "metadata": {},
     "output_type": "execute_result"
    }
   ],
   "source": [
    "margin_of_error = z_critical*np.std(mean_of_sample) / np.sqrt(20)\n",
    "margin_of_error"
   ]
  },
  {
   "cell_type": "code",
   "execution_count": 54,
   "id": "faf61a8a-c18d-4e36-85c8-567b7d929c43",
   "metadata": {},
   "outputs": [
    {
     "data": {
      "text/plain": [
       "[5.06,\n",
       " 5.016333333333334,\n",
       " 5.0183333333333335,\n",
       " 5.036,\n",
       " 5.027666666666667,\n",
       " 5.0103333333333335,\n",
       " 4.968,\n",
       " 5.062333333333333,\n",
       " 5.016333333333334,\n",
       " 4.994666666666666,\n",
       " 5.0136666666666665,\n",
       " 5.040666666666667,\n",
       " 5.021333333333334,\n",
       " 5.0343333333333335,\n",
       " 5.010666666666666,\n",
       " 5.008333333333334,\n",
       " 5.039,\n",
       " 5.005,\n",
       " 5.021333333333334,\n",
       " 5.004,\n",
       " 4.985333333333333,\n",
       " 5.017,\n",
       " 4.990333333333333,\n",
       " 4.996666666666667,\n",
       " 5.014666666666667,\n",
       " 5.010666666666666,\n",
       " 5.084,\n",
       " 5.049,\n",
       " 5.056,\n",
       " 5.068666666666667,\n",
       " 5.007666666666666,\n",
       " 5.036666666666667,\n",
       " 5.002,\n",
       " 4.983333333333333,\n",
       " 5.016333333333334,\n",
       " 5.035,\n",
       " 5.009666666666667,\n",
       " 5.0343333333333335,\n",
       " 5.049333333333333,\n",
       " 5.022,\n",
       " 4.996,\n",
       " 5.001333333333333,\n",
       " 4.997333333333334,\n",
       " 5.042,\n",
       " 5.054333333333333,\n",
       " 5.019666666666667,\n",
       " 5.0296666666666665,\n",
       " 5.04,\n",
       " 5.003666666666667,\n",
       " 5.033333333333333,\n",
       " 5.000333333333334,\n",
       " 5.051333333333333,\n",
       " 5.037,\n",
       " 5.019,\n",
       " 4.977666666666667,\n",
       " 5.075,\n",
       " 4.961333333333333,\n",
       " 4.9783333333333335,\n",
       " 5.024666666666667,\n",
       " 5.007333333333333,\n",
       " 5.035,\n",
       " 5.026,\n",
       " 4.996666666666667,\n",
       " 5.000333333333334,\n",
       " 5.0,\n",
       " 5.04,\n",
       " 5.057666666666667,\n",
       " 4.960666666666667,\n",
       " 5.038333333333333,\n",
       " 4.974666666666667,\n",
       " 5.028333333333333,\n",
       " 4.946666666666666,\n",
       " 5.021,\n",
       " 5.02,\n",
       " 5.0376666666666665,\n",
       " 4.988,\n",
       " 4.987666666666667,\n",
       " 5.016666666666667,\n",
       " 5.035,\n",
       " 4.998333333333333,\n",
       " 5.010666666666666,\n",
       " 5.006333333333333,\n",
       " 4.991333333333333,\n",
       " 4.986666666666666,\n",
       " 5.075333333333333,\n",
       " 4.958666666666667,\n",
       " 5.017333333333333,\n",
       " 5.017333333333333,\n",
       " 5.009666666666667,\n",
       " 5.008,\n",
       " 4.993333333333333,\n",
       " 5.0633333333333335,\n",
       " 5.052,\n",
       " 5.047,\n",
       " 5.03,\n",
       " 5.012,\n",
       " 5.01,\n",
       " 5.03,\n",
       " 5.05,\n",
       " 5.037333333333334,\n",
       " 5.019,\n",
       " 5.010666666666666,\n",
       " 5.02,\n",
       " 5.058,\n",
       " 5.048666666666667,\n",
       " 5.043333333333333,\n",
       " 5.003,\n",
       " 5.045333333333334,\n",
       " 5.000666666666667,\n",
       " 5.041333333333333,\n",
       " 5.062333333333333,\n",
       " 5.0216666666666665,\n",
       " 5.0343333333333335,\n",
       " 5.0696666666666665,\n",
       " 5.014333333333333,\n",
       " 5.011666666666667,\n",
       " 5.017,\n",
       " 5.062,\n",
       " 5.004333333333333,\n",
       " 5.0183333333333335,\n",
       " 4.9863333333333335,\n",
       " 5.047666666666666,\n",
       " 5.037,\n",
       " 5.029,\n",
       " 5.038333333333333,\n",
       " 4.979,\n",
       " 5.019,\n",
       " 5.001333333333333,\n",
       " 4.963666666666667,\n",
       " 5.034666666666666,\n",
       " 4.980666666666667,\n",
       " 4.960333333333334,\n",
       " 5.04,\n",
       " 5.0183333333333335,\n",
       " 5.011666666666667,\n",
       " 4.99,\n",
       " 5.008333333333334,\n",
       " 4.974666666666667,\n",
       " 4.985666666666667,\n",
       " 5.036,\n",
       " 4.992666666666667,\n",
       " 5.004,\n",
       " 5.063,\n",
       " 5.052333333333333,\n",
       " 5.017333333333333,\n",
       " 5.083333333333333,\n",
       " 5.007,\n",
       " 5.052666666666667,\n",
       " 5.012,\n",
       " 5.03,\n",
       " 4.999333333333333,\n",
       " 5.023333333333333,\n",
       " 5.060333333333333,\n",
       " 5.0216666666666665,\n",
       " 4.998333333333333,\n",
       " 5.006,\n",
       " 4.931666666666667,\n",
       " 4.991333333333333,\n",
       " 5.012333333333333,\n",
       " 4.959,\n",
       " 5.006,\n",
       " 5.016333333333334,\n",
       " 5.101333333333334,\n",
       " 5.011333333333333,\n",
       " 5.051333333333333,\n",
       " 4.992333333333334,\n",
       " 4.995666666666667,\n",
       " 5.006,\n",
       " 5.0536666666666665,\n",
       " 5.033666666666667,\n",
       " 5.072,\n",
       " 5.024666666666667,\n",
       " 4.992666666666667,\n",
       " 5.021333333333334,\n",
       " 4.996333333333333,\n",
       " 5.065666666666667,\n",
       " 5.034666666666666,\n",
       " 5.035666666666667,\n",
       " 5.0103333333333335,\n",
       " 5.019333333333333,\n",
       " 4.9976666666666665,\n",
       " 5.073666666666667,\n",
       " 5.019666666666667,\n",
       " 5.013333333333334,\n",
       " 5.016666666666667,\n",
       " 5.006,\n",
       " 4.993666666666667,\n",
       " 5.078333333333333,\n",
       " 5.031333333333333,\n",
       " 5.0616666666666665,\n",
       " 5.060666666666667,\n",
       " 5.050333333333334,\n",
       " 4.957333333333334,\n",
       " 5.039,\n",
       " 4.967,\n",
       " 5.020666666666667,\n",
       " 5.057333333333333,\n",
       " 5.068,\n",
       " 4.986666666666666,\n",
       " 5.032333333333334,\n",
       " 5.028666666666667,\n",
       " 5.029,\n",
       " 5.003333333333333,\n",
       " 5.017,\n",
       " 5.001,\n",
       " 4.999666666666666,\n",
       " 5.033333333333333,\n",
       " 5.032666666666667,\n",
       " 4.930666666666666,\n",
       " 4.986666666666666,\n",
       " 5.033,\n",
       " 5.013,\n",
       " 5.009333333333333,\n",
       " 5.001333333333333,\n",
       " 5.012333333333333,\n",
       " 4.970666666666666,\n",
       " 5.026666666666666,\n",
       " 4.992666666666667,\n",
       " 5.056333333333333,\n",
       " 4.993,\n",
       " 4.969,\n",
       " 5.085333333333334,\n",
       " 5.007,\n",
       " 4.981333333333334,\n",
       " 4.979,\n",
       " 5.1,\n",
       " 5.039,\n",
       " 4.964,\n",
       " 4.989,\n",
       " 5.071,\n",
       " 5.037333333333334,\n",
       " 5.008,\n",
       " 4.993333333333333,\n",
       " 4.987333333333333,\n",
       " 5.030333333333333,\n",
       " 4.9623333333333335,\n",
       " 5.032,\n",
       " 5.046666666666667,\n",
       " 5.054333333333333,\n",
       " 5.044333333333333,\n",
       " 5.052666666666667,\n",
       " 4.998666666666667,\n",
       " 5.019,\n",
       " 5.085333333333334,\n",
       " 5.017,\n",
       " 5.017,\n",
       " 5.04,\n",
       " 5.002,\n",
       " 5.045,\n",
       " 4.999333333333333,\n",
       " 5.051,\n",
       " 5.062333333333333,\n",
       " 5.020666666666667,\n",
       " 5.014,\n",
       " 4.998,\n",
       " 4.996,\n",
       " 4.983666666666666,\n",
       " 5.034,\n",
       " 5.075333333333333,\n",
       " 5.027333333333333,\n",
       " 5.026,\n",
       " 5.038,\n",
       " 5.061333333333334,\n",
       " 4.995333333333333,\n",
       " 4.992666666666667,\n",
       " 5.002666666666666,\n",
       " 4.994666666666666,\n",
       " 4.991333333333333,\n",
       " 4.9623333333333335,\n",
       " 4.991333333333333,\n",
       " 5.015,\n",
       " 5.024,\n",
       " 5.015,\n",
       " 5.0456666666666665,\n",
       " 5.009333333333333,\n",
       " 4.997333333333334,\n",
       " 5.049,\n",
       " 5.062,\n",
       " 5.0343333333333335,\n",
       " 5.073333333333333,\n",
       " 4.955,\n",
       " 4.979,\n",
       " 4.99,\n",
       " 5.001666666666667,\n",
       " 4.993333333333333,\n",
       " 5.073666666666667,\n",
       " 5.01,\n",
       " 5.051,\n",
       " 5.025666666666667,\n",
       " 5.023333333333333,\n",
       " 5.004,\n",
       " 4.979,\n",
       " 4.974333333333333,\n",
       " 5.048,\n",
       " 4.972666666666667,\n",
       " 5.068666666666667,\n",
       " 4.988333333333333,\n",
       " 5.002,\n",
       " 5.058,\n",
       " 5.001,\n",
       " 4.983666666666666,\n",
       " 5.031333333333333,\n",
       " 5.014333333333333,\n",
       " 5.042,\n",
       " 5.006,\n",
       " 5.0,\n",
       " 4.9543333333333335,\n",
       " 5.025666666666667,\n",
       " 5.004,\n",
       " 5.067333333333333,\n",
       " 5.043666666666667,\n",
       " 4.960666666666667,\n",
       " 5.014333333333333,\n",
       " 4.985666666666667,\n",
       " 5.0183333333333335,\n",
       " 5.053333333333334,\n",
       " 4.997333333333334,\n",
       " 5.015666666666666,\n",
       " 5.005333333333334,\n",
       " 4.973333333333334,\n",
       " 5.039333333333333,\n",
       " 5.015,\n",
       " 5.101333333333334,\n",
       " 5.000666666666667,\n",
       " 5.004,\n",
       " 5.063666666666666,\n",
       " 4.998,\n",
       " 5.041333333333333,\n",
       " 5.0873333333333335,\n",
       " 5.019333333333333,\n",
       " 5.0263333333333335,\n",
       " 4.993333333333333,\n",
       " 4.981333333333334,\n",
       " 5.020333333333333,\n",
       " 5.028666666666667,\n",
       " 4.9943333333333335,\n",
       " 5.022666666666667,\n",
       " 5.048,\n",
       " 5.033333333333333,\n",
       " 4.986666666666666,\n",
       " 5.006666666666667,\n",
       " 5.057,\n",
       " 5.017333333333333,\n",
       " 5.014333333333333,\n",
       " 5.005333333333334,\n",
       " 5.006666666666667,\n",
       " 5.033333333333333,\n",
       " 4.968333333333334,\n",
       " 4.999666666666666,\n",
       " 5.002666666666666,\n",
       " 5.0633333333333335,\n",
       " 4.990666666666667,\n",
       " 5.073666666666667,\n",
       " 4.991666666666666,\n",
       " 4.982666666666667,\n",
       " 5.020333333333333,\n",
       " 5.069,\n",
       " 5.0103333333333335,\n",
       " 5.059333333333333,\n",
       " 5.022,\n",
       " 5.058666666666666,\n",
       " 5.005333333333334,\n",
       " 5.053333333333334,\n",
       " 5.082,\n",
       " 5.011,\n",
       " 4.988333333333333,\n",
       " 4.959666666666666,\n",
       " 5.008,\n",
       " 5.0296666666666665,\n",
       " 5.044333333333333,\n",
       " 4.969,\n",
       " 5.015666666666666,\n",
       " 5.007666666666666,\n",
       " 5.014333333333333,\n",
       " 5.021333333333334,\n",
       " 4.985666666666667,\n",
       " 5.0,\n",
       " 5.029333333333334,\n",
       " 5.007666666666666,\n",
       " 4.999666666666666,\n",
       " 5.049333333333333,\n",
       " 4.986666666666666,\n",
       " 4.9976666666666665,\n",
       " 4.991,\n",
       " 5.075666666666667,\n",
       " 5.0183333333333335,\n",
       " 5.037,\n",
       " 5.048333333333333,\n",
       " 5.022333333333333,\n",
       " 5.007333333333333,\n",
       " 4.996666666666667,\n",
       " 5.017333333333333,\n",
       " 5.040666666666667,\n",
       " 5.023,\n",
       " 5.052333333333333,\n",
       " 5.060333333333333,\n",
       " 5.006333333333333,\n",
       " 5.023,\n",
       " 5.007666666666666,\n",
       " 4.987333333333333,\n",
       " 5.005,\n",
       " 5.024,\n",
       " 4.961,\n",
       " 5.011333333333333,\n",
       " 5.021,\n",
       " 5.0103333333333335,\n",
       " 5.044333333333333,\n",
       " 4.977333333333333,\n",
       " 5.013333333333334,\n",
       " 4.961333333333333,\n",
       " 4.985,\n",
       " 4.999,\n",
       " 5.023,\n",
       " 5.032666666666667,\n",
       " 5.035,\n",
       " 5.048666666666667,\n",
       " 5.043,\n",
       " 5.075333333333333,\n",
       " 5.030333333333333,\n",
       " 5.0343333333333335,\n",
       " 5.027666666666667,\n",
       " 5.0553333333333335,\n",
       " 5.067,\n",
       " 5.067666666666667,\n",
       " 5.063,\n",
       " 5.042,\n",
       " 5.023333333333333,\n",
       " 5.03,\n",
       " 5.014333333333333,\n",
       " 5.022666666666667,\n",
       " 5.017666666666667,\n",
       " 5.023,\n",
       " 5.031333333333333,\n",
       " 5.017333333333333,\n",
       " 4.994,\n",
       " 5.026666666666666,\n",
       " 5.050666666666666,\n",
       " 5.035666666666667,\n",
       " 4.981,\n",
       " 5.008666666666667,\n",
       " 5.041666666666667,\n",
       " 4.951666666666667,\n",
       " 5.031,\n",
       " 5.030333333333333,\n",
       " 4.998333333333333,\n",
       " 4.981333333333334,\n",
       " 5.020666666666667,\n",
       " 5.003666666666667,\n",
       " 4.982,\n",
       " 5.004333333333333,\n",
       " 5.0263333333333335,\n",
       " 5.0103333333333335,\n",
       " 5.032666666666667,\n",
       " 5.014333333333333,\n",
       " 5.033,\n",
       " 5.035333333333333,\n",
       " 5.030666666666667,\n",
       " 5.019,\n",
       " 5.101,\n",
       " 5.007,\n",
       " 5.063,\n",
       " 5.045333333333334,\n",
       " 4.976,\n",
       " 5.022,\n",
       " 4.973,\n",
       " 5.016,\n",
       " 5.061333333333334,\n",
       " 5.037333333333334,\n",
       " 5.018,\n",
       " 4.994,\n",
       " 5.012,\n",
       " 5.044333333333333,\n",
       " 5.008,\n",
       " 5.0553333333333335,\n",
       " 5.048333333333333,\n",
       " 5.065666666666667,\n",
       " 5.032666666666667,\n",
       " 4.982666666666667,\n",
       " 5.082,\n",
       " 5.030333333333333,\n",
       " 5.027666666666667,\n",
       " 4.989333333333334,\n",
       " 4.987666666666667,\n",
       " 4.984666666666667,\n",
       " 5.031666666666666,\n",
       " 4.972,\n",
       " 5.048666666666667,\n",
       " 5.000333333333334,\n",
       " 5.0103333333333335,\n",
       " 5.035,\n",
       " 5.001,\n",
       " 5.057666666666667,\n",
       " 5.0296666666666665,\n",
       " 5.01,\n",
       " 4.990333333333333,\n",
       " 4.990333333333333,\n",
       " 5.021,\n",
       " 5.0103333333333335,\n",
       " 5.085666666666667,\n",
       " 4.989,\n",
       " 5.030666666666667,\n",
       " 5.010666666666666,\n",
       " 4.9896666666666665,\n",
       " 5.0183333333333335,\n",
       " 5.030333333333333,\n",
       " 5.008666666666667,\n",
       " 5.007666666666666,\n",
       " 5.01,\n",
       " 4.969666666666667,\n",
       " 4.9896666666666665,\n",
       " 5.032333333333334,\n",
       " 5.048333333333333,\n",
       " 5.0456666666666665,\n",
       " 5.040666666666667,\n",
       " 5.041,\n",
       " 4.984666666666667,\n",
       " 5.030333333333333,\n",
       " 4.984,\n",
       " 5.02,\n",
       " 4.983333333333333,\n",
       " 4.9943333333333335,\n",
       " 4.928333333333334,\n",
       " 5.008666666666667,\n",
       " 5.019333333333333,\n",
       " 5.070333333333333,\n",
       " 5.049333333333333,\n",
       " 5.033,\n",
       " 5.042,\n",
       " 5.008333333333334,\n",
       " 5.026666666666666,\n",
       " 4.974,\n",
       " 5.027333333333333,\n",
       " 4.9736666666666665,\n",
       " 4.969333333333333,\n",
       " 5.017,\n",
       " 5.001333333333333,\n",
       " 4.995666666666667,\n",
       " 4.979,\n",
       " 5.0216666666666665,\n",
       " 5.061333333333334,\n",
       " 5.012333333333333,\n",
       " 5.067333333333333,\n",
       " 5.004666666666667,\n",
       " 5.0296666666666665,\n",
       " 4.995333333333333,\n",
       " 5.041,\n",
       " 5.0296666666666665,\n",
       " 5.054666666666667,\n",
       " 5.022666666666667,\n",
       " 5.023666666666666,\n",
       " 4.990666666666667,\n",
       " 5.07,\n",
       " 5.017333333333333,\n",
       " 4.980666666666667,\n",
       " 4.993333333333333,\n",
       " 5.006,\n",
       " 5.015666666666666,\n",
       " 4.988666666666667,\n",
       " 5.059666666666667,\n",
       " 5.0,\n",
       " 5.008,\n",
       " 5.036666666666667,\n",
       " 5.001333333333333,\n",
       " 5.0183333333333335,\n",
       " 5.006333333333333,\n",
       " 5.006333333333333,\n",
       " 4.992666666666667,\n",
       " 5.0216666666666665,\n",
       " 5.004333333333333,\n",
       " 5.006666666666667,\n",
       " 5.006333333333333,\n",
       " 5.06,\n",
       " 5.066666666666666,\n",
       " 5.049,\n",
       " 4.958666666666667,\n",
       " 5.003333333333333,\n",
       " 5.027,\n",
       " 5.020666666666667,\n",
       " 5.0376666666666665,\n",
       " 5.031,\n",
       " 5.018,\n",
       " 5.008333333333334,\n",
       " 5.0263333333333335,\n",
       " 5.027666666666667,\n",
       " 5.048666666666667,\n",
       " 4.999,\n",
       " 5.036,\n",
       " 5.0023333333333335,\n",
       " 5.0696666666666665,\n",
       " 5.0103333333333335,\n",
       " 5.037,\n",
       " 5.019,\n",
       " 5.005333333333334,\n",
       " 5.026666666666666,\n",
       " 4.983333333333333,\n",
       " 4.9526666666666666,\n",
       " 5.053333333333334,\n",
       " 5.013,\n",
       " 5.0343333333333335,\n",
       " 5.018666666666666,\n",
       " 4.991333333333333,\n",
       " 5.064,\n",
       " 4.984,\n",
       " 5.016666666666667,\n",
       " 5.015666666666666,\n",
       " 5.074333333333334,\n",
       " 5.036333333333333,\n",
       " 5.034666666666666,\n",
       " 5.097333333333333,\n",
       " 5.036333333333333,\n",
       " 5.0136666666666665,\n",
       " 5.030666666666667,\n",
       " 5.0536666666666665,\n",
       " 5.033666666666667,\n",
       " 5.019666666666667,\n",
       " 5.056,\n",
       " 5.038,\n",
       " 5.030666666666667,\n",
       " 5.005,\n",
       " 5.068,\n",
       " 5.026,\n",
       " 4.967,\n",
       " 5.023333333333333,\n",
       " 5.016,\n",
       " 5.005,\n",
       " 5.0376666666666665,\n",
       " 4.998,\n",
       " 5.024333333333334,\n",
       " 5.006,\n",
       " 5.012,\n",
       " 5.031666666666666,\n",
       " 5.016666666666667,\n",
       " 5.014,\n",
       " 4.999333333333333,\n",
       " 5.015,\n",
       " 4.976,\n",
       " 5.0056666666666665,\n",
       " 5.031333333333333,\n",
       " 4.957666666666666,\n",
       " 4.992666666666667,\n",
       " 5.014666666666667,\n",
       " 5.0136666666666665,\n",
       " 5.035,\n",
       " 5.038,\n",
       " 4.986,\n",
       " 5.039333333333333,\n",
       " 5.020666666666667,\n",
       " 5.008,\n",
       " 4.997333333333334,\n",
       " 5.026,\n",
       " 5.003666666666667,\n",
       " 5.012333333333333,\n",
       " 4.993,\n",
       " 5.060333333333333,\n",
       " 5.032333333333334,\n",
       " 5.061,\n",
       " 5.074,\n",
       " 5.02,\n",
       " 5.049,\n",
       " 5.006333333333333,\n",
       " 5.007666666666666,\n",
       " 4.994666666666666,\n",
       " 5.009333333333333,\n",
       " 5.011333333333333,\n",
       " 5.04,\n",
       " 5.056666666666667,\n",
       " 5.051,\n",
       " 5.014,\n",
       " 5.020333333333333,\n",
       " 5.074,\n",
       " 4.984,\n",
       " 4.974666666666667,\n",
       " 5.010666666666666,\n",
       " 4.974,\n",
       " 5.026666666666666,\n",
       " 5.032,\n",
       " 5.028,\n",
       " 5.052,\n",
       " 5.033333333333333,\n",
       " 5.048333333333333,\n",
       " 5.041666666666667,\n",
       " 4.977666666666667,\n",
       " 5.0456666666666665,\n",
       " 5.045,\n",
       " 5.046,\n",
       " 5.034,\n",
       " 4.982666666666667,\n",
       " 4.979,\n",
       " 5.023666666666666,\n",
       " 5.009333333333333,\n",
       " 4.990333333333333,\n",
       " 5.043,\n",
       " 5.036666666666667,\n",
       " 5.011666666666667,\n",
       " 5.052333333333333,\n",
       " 5.028666666666667,\n",
       " 5.041333333333333,\n",
       " 5.038333333333333,\n",
       " 4.9463333333333335,\n",
       " 5.011,\n",
       " 4.9816666666666665,\n",
       " 5.016333333333334,\n",
       " 4.963,\n",
       " 5.031333333333333,\n",
       " 5.030333333333333,\n",
       " 4.993333333333333,\n",
       " 5.053,\n",
       " 4.976333333333334,\n",
       " 5.032666666666667,\n",
       " 5.048333333333333,\n",
       " 5.072333333333333,\n",
       " 4.9943333333333335,\n",
       " 5.019333333333333,\n",
       " 4.962666666666666,\n",
       " 5.000333333333334,\n",
       " 5.075,\n",
       " 5.044666666666667,\n",
       " 5.004666666666667,\n",
       " 5.04,\n",
       " 4.978,\n",
       " 5.086666666666667,\n",
       " 5.024,\n",
       " 5.0183333333333335,\n",
       " 5.0103333333333335,\n",
       " 5.064666666666667,\n",
       " 5.03,\n",
       " 5.01,\n",
       " 5.001,\n",
       " 5.063666666666666,\n",
       " 5.035333333333333,\n",
       " 5.024,\n",
       " 5.06,\n",
       " 5.024666666666667,\n",
       " 4.993666666666667,\n",
       " 5.032666666666667,\n",
       " 4.995666666666667,\n",
       " 5.013,\n",
       " 5.009333333333333,\n",
       " 5.000333333333334,\n",
       " 5.0263333333333335,\n",
       " 5.025666666666667,\n",
       " 5.017,\n",
       " 5.022333333333333,\n",
       " 4.998333333333333,\n",
       " 5.000666666666667,\n",
       " 5.020333333333333,\n",
       " 4.983,\n",
       " 5.015,\n",
       " 5.010666666666666,\n",
       " 5.038333333333333,\n",
       " 4.990666666666667,\n",
       " 4.991,\n",
       " 4.945,\n",
       " 5.025,\n",
       " 4.987,\n",
       " 5.009,\n",
       " 5.015666666666666,\n",
       " 4.968666666666667,\n",
       " 5.022666666666667,\n",
       " 5.028333333333333,\n",
       " 5.058,\n",
       " 4.97,\n",
       " 4.954666666666666,\n",
       " 5.003666666666667,\n",
       " 5.0216666666666665,\n",
       " 5.014333333333333,\n",
       " 5.020333333333333,\n",
       " 5.022333333333333,\n",
       " 5.033333333333333,\n",
       " 5.034,\n",
       " 5.009,\n",
       " 5.039666666666666,\n",
       " 4.995666666666667,\n",
       " 5.049333333333333,\n",
       " 5.058,\n",
       " 4.990666666666667,\n",
       " 5.035333333333333,\n",
       " 5.017666666666667,\n",
       " 5.036,\n",
       " 4.985333333333333,\n",
       " 4.983666666666666,\n",
       " 5.031,\n",
       " 4.996666666666667,\n",
       " 4.987,\n",
       " 5.036666666666667,\n",
       " 5.023666666666666,\n",
       " 4.99,\n",
       " 5.026666666666666,\n",
       " 5.041333333333333,\n",
       " 5.014,\n",
       " 5.033,\n",
       " 5.035333333333333,\n",
       " 5.006,\n",
       " 4.999666666666666,\n",
       " 4.994666666666666,\n",
       " 4.992,\n",
       " 5.008333333333334,\n",
       " 4.974333333333333,\n",
       " 5.004333333333333,\n",
       " 5.023666666666666,\n",
       " 5.021333333333334,\n",
       " 4.993666666666667,\n",
       " 5.014,\n",
       " 5.025,\n",
       " 5.029333333333334,\n",
       " 5.020666666666667,\n",
       " 5.013333333333334,\n",
       " 5.021333333333334,\n",
       " 5.003333333333333,\n",
       " 5.024333333333334,\n",
       " 4.964333333333333,\n",
       " 5.013333333333334,\n",
       " 5.011666666666667,\n",
       " 5.0,\n",
       " 5.069333333333334,\n",
       " 5.040333333333334,\n",
       " 5.011,\n",
       " 5.056666666666667,\n",
       " 5.007,\n",
       " 5.003333333333333,\n",
       " 5.047,\n",
       " 5.033333333333333,\n",
       " 4.934333333333333,\n",
       " 5.045333333333334,\n",
       " 5.016,\n",
       " 5.017333333333333,\n",
       " 5.018666666666666,\n",
       " 4.975,\n",
       " 4.942333333333333,\n",
       " 5.024,\n",
       " 5.008,\n",
       " 5.019666666666667,\n",
       " 5.028,\n",
       " 4.983333333333333,\n",
       " 4.979333333333333,\n",
       " 5.103,\n",
       " 5.033333333333333,\n",
       " 5.028666666666667,\n",
       " 5.049333333333333,\n",
       " 5.022666666666667,\n",
       " 4.995,\n",
       " 4.998,\n",
       " 5.09,\n",
       " 5.041333333333333,\n",
       " 5.026666666666666,\n",
       " 5.014666666666667,\n",
       " 5.0,\n",
       " 5.04,\n",
       " 4.964333333333333,\n",
       " 5.011,\n",
       " 5.018666666666666,\n",
       " 5.073333333333333,\n",
       " 5.023333333333333,\n",
       " 5.047666666666666,\n",
       " 5.017666666666667,\n",
       " 5.025333333333333,\n",
       " 5.036666666666667,\n",
       " 5.016333333333334,\n",
       " 5.017666666666667,\n",
       " 5.047666666666666,\n",
       " 5.009333333333333,\n",
       " 5.019666666666667,\n",
       " 5.017,\n",
       " 5.039,\n",
       " 5.037,\n",
       " 5.016333333333334,\n",
       " 5.034,\n",
       " 5.016,\n",
       " 5.032666666666667,\n",
       " 5.0536666666666665,\n",
       " 5.042333333333334,\n",
       " 4.997333333333334,\n",
       " 5.0103333333333335,\n",
       " 5.011333333333333,\n",
       " 5.019333333333333,\n",
       " 5.044,\n",
       " 4.977,\n",
       " 5.016666666666667,\n",
       " 5.0056666666666665,\n",
       " 4.987,\n",
       " 4.987,\n",
       " 5.001333333333333,\n",
       " 5.073,\n",
       " 5.019666666666667,\n",
       " 4.998,\n",
       " 4.984333333333334,\n",
       " 5.009333333333333,\n",
       " 5.030666666666667,\n",
       " 4.965,\n",
       " 5.011333333333333,\n",
       " 5.007,\n",
       " 5.056666666666667,\n",
       " 5.034666666666666,\n",
       " 5.0536666666666665,\n",
       " 5.029333333333334,\n",
       " 5.027333333333333,\n",
       " 5.038333333333333,\n",
       " 5.023,\n",
       " 5.025,\n",
       " 5.043333333333333,\n",
       " 5.012666666666667,\n",
       " 5.003666666666667,\n",
       " 4.979,\n",
       " 5.021,\n",
       " 5.011,\n",
       " 5.014666666666667,\n",
       " 5.027666666666667,\n",
       " 5.0023333333333335,\n",
       " 4.960666666666667,\n",
       " 4.984,\n",
       " 5.028333333333333,\n",
       " 5.021,\n",
       " 4.98,\n",
       " 5.01,\n",
       " 5.059666666666667,\n",
       " 5.038333333333333,\n",
       " 4.9703333333333335,\n",
       " 5.046333333333333,\n",
       " 5.023,\n",
       " 5.01,\n",
       " 5.066666666666666,\n",
       " 5.034,\n",
       " 5.065,\n",
       " 5.015,\n",
       " 4.993,\n",
       " 4.957,\n",
       " 5.019333333333333,\n",
       " 5.039333333333333,\n",
       " 4.994666666666666,\n",
       " 5.038333333333333,\n",
       " 5.000333333333334,\n",
       " 5.005333333333334,\n",
       " 5.051666666666667,\n",
       " 5.012666666666667,\n",
       " 5.021333333333334,\n",
       " 5.004666666666667,\n",
       " 5.000666666666667,\n",
       " 5.026,\n",
       " 5.067333333333333,\n",
       " 5.049,\n",
       " 5.025,\n",
       " 5.046333333333333,\n",
       " 5.0536666666666665,\n",
       " 5.095666666666666,\n",
       " 5.096333333333333,\n",
       " 5.018,\n",
       " 5.029,\n",
       " 5.01,\n",
       " 5.046666666666667,\n",
       " 5.031333333333333,\n",
       " 5.042666666666666,\n",
       " 5.033333333333333,\n",
       " 4.979333333333333,\n",
       " 5.036,\n",
       " 4.999666666666666,\n",
       " 5.012,\n",
       " 5.035333333333333,\n",
       " 4.984666666666667,\n",
       " 5.001333333333333,\n",
       " 4.996333333333333,\n",
       " 5.034,\n",
       " 5.034666666666666,\n",
       " 5.014666666666667,\n",
       " 5.042,\n",
       " 5.061333333333334,\n",
       " 4.999333333333333,\n",
       " 5.049666666666667,\n",
       " 5.013,\n",
       " 5.026,\n",
       " 4.995666666666667,\n",
       " 4.981333333333334,\n",
       " 5.049333333333333,\n",
       " 4.998,\n",
       " 5.036333333333333,\n",
       " 5.03,\n",
       " 4.951,\n",
       " 5.023666666666666,\n",
       " 4.975666666666666,\n",
       " 5.052666666666667,\n",
       " 5.059,\n",
       " 5.061,\n",
       " 4.996333333333333,\n",
       " 5.023,\n",
       " 4.998333333333333,\n",
       " 5.051333333333333,\n",
       " 5.039666666666666,\n",
       " 5.033333333333333,\n",
       " 5.032666666666667,\n",
       " 4.979333333333333,\n",
       " 5.025,\n",
       " 5.001666666666667,\n",
       " 4.9783333333333335,\n",
       " 5.004333333333333,\n",
       " 4.979666666666667,\n",
       " 5.001333333333333,\n",
       " 5.043,\n",
       " 4.995333333333333,\n",
       " 4.955333333333333,\n",
       " 5.040666666666667,\n",
       " 4.989333333333334,\n",
       " ...]"
      ]
     },
     "execution_count": 54,
     "metadata": {},
     "output_type": "execute_result"
    }
   ],
   "source": [
    "mean_of_sample"
   ]
  },
  {
   "cell_type": "code",
   "execution_count": 55,
   "id": "7dfcac46-a104-4dde-ad9d-2eadee499ce6",
   "metadata": {},
   "outputs": [
    {
     "data": {
      "text/plain": [
       "(5.006080112955757, 5.031422303952602)"
      ]
     },
     "execution_count": 55,
     "metadata": {},
     "output_type": "execute_result"
    }
   ],
   "source": [
    "# confidence interval\n",
    "np.mean(mean_of_sample)- margin_of_error, np.mean(mean_of_sample)+margin_of_error"
   ]
  },
  {
   "cell_type": "markdown",
   "id": "f8d53ab6-32af-4ede-9f8a-7b8ccdfc8e46",
   "metadata": {},
   "source": [
    "z-test"
   ]
  },
  {
   "cell_type": "code",
   "execution_count": 56,
   "id": "6bcc8944-0b23-45f3-a45a-df7cefaee4a3",
   "metadata": {},
   "outputs": [
    {
     "data": {
      "text/plain": [
       "array([ 0.95742013,  1.2474852 , -0.19299306, -0.44242106, -0.22731802,\n",
       "        0.62415931,  1.25372345,  0.40553307,  1.41290365,  0.89353686,\n",
       "       -0.01803675, -1.2943185 , -0.75735069,  0.43045667, -0.59834643,\n",
       "        0.0533466 ,  0.93411038,  0.60684174,  0.5223006 , -0.35527836,\n",
       "       -0.39983471, -0.58054229,  0.30434742,  0.76206478,  0.6161251 ,\n",
       "       -0.74365711, -0.05922655,  1.67688981,  0.3160391 , -0.64185861,\n",
       "       -1.44469614, -1.98453238, -0.12842573, -1.77120529,  0.33443789,\n",
       "       -0.9472327 , -0.08508136, -0.00985527,  0.62055904,  1.53074247,\n",
       "        2.5920348 ,  0.75692569,  1.08943433, -1.96048646, -1.21574942,\n",
       "       -1.0696601 ,  0.8699397 , -0.61525657,  0.69213354, -0.55180095,\n",
       "        1.67206003,  0.37902367, -1.74366389, -0.13320572, -0.31865138,\n",
       "       -0.29957923, -0.47561999,  0.10982606, -0.76957141, -0.63122317,\n",
       "       -1.17055018, -0.60981016, -0.61765612,  0.59589707,  0.14525968,\n",
       "       -1.16951011,  0.18564808, -0.91039616,  0.30797346, -0.72010789,\n",
       "        0.90786502,  0.20829494,  0.36827588,  0.67734709, -0.91827272,\n",
       "        0.14082283, -0.18059988,  0.94809122,  1.43626269,  0.91348698,\n",
       "       -1.1898817 ,  0.9564003 , -1.42358668, -1.22605762,  0.55651055,\n",
       "       -1.10431592, -1.01044352,  1.46650473, -1.82459073, -0.28237575,\n",
       "       -1.1038517 ,  0.57287292, -0.32262338, -1.03713068, -0.66336776,\n",
       "        0.29246539,  0.87858673,  0.33076758, -0.42954757,  2.0850376 ])"
      ]
     },
     "execution_count": 56,
     "metadata": {},
     "output_type": "execute_result"
    }
   ],
   "source": [
    "from numpy.random import randn\n",
    "\n",
    "\n",
    "population  = randn(100)\n",
    "population"
   ]
  },
  {
   "cell_type": "code",
   "execution_count": 57,
   "id": "83c47324-b798-40fb-9288-27e54e6aed31",
   "metadata": {},
   "outputs": [
    {
     "data": {
      "text/plain": [
       "<Axes: ylabel='Density'>"
      ]
     },
     "execution_count": 57,
     "metadata": {},
     "output_type": "execute_result"
    },
    {
     "data": {
      "image/png": "[encoded data removed]",
      "text/plain": [
       "<Figure size 640x480 with 1 Axes>"
      ]
     },
     "metadata": {},
     "output_type": "display_data"
    }
   ],
   "source": [
    "sns.distplot(population)"
   ]
  },
  {
   "cell_type": "code",
   "execution_count": 58,
   "id": "f6297d84-cc57-47b6-ac38-42f771ff60c2",
   "metadata": {},
   "outputs": [
    {
     "data": {
      "text/plain": [
       "(-0.02742583692012023, 0.9423710823015582)"
      ]
     },
     "execution_count": 58,
     "metadata": {},
     "output_type": "execute_result"
    }
   ],
   "source": [
    "np.mean(population), np.std(population)"
   ]
  },
  {
   "cell_type": "code",
   "execution_count": 59,
   "id": "a968fa7b-82cf-4a1f-844a-93fb0e959ae4",
   "metadata": {},
   "outputs": [],
   "source": [
    "null_mean =0.05\n",
    "# if pvalue <=0.05 -- reject null hypothesis\n",
    "#  if p value > 0.05 -- fail to reject null hypothesis"
   ]
  },
  {
   "cell_type": "code",
   "execution_count": 63,
   "id": "4764ad8d-e9b5-466c-a747-9f516abce52c",
   "metadata": {},
   "outputs": [],
   "source": [
    "from statsmodels.stats.weightstats import ztest"
   ]
  },
  {
   "cell_type": "code",
   "execution_count": 67,
   "id": "806a1846-ede6-4ed3-ba07-84bc06a129c9",
   "metadata": {},
   "outputs": [],
   "source": [
    "zscore, pvalue =ztest(population, value=null_mean, alternative='larger')  #here alternative means , mean is greater than nullmean"
   ]
  },
  {
   "cell_type": "code",
   "execution_count": 68,
   "id": "e284ce67-da77-4a5a-b0c2-bc659cb9aae7",
   "metadata": {},
   "outputs": [
    {
     "data": {
      "text/plain": [
       "-0.8174883173922936"
      ]
     },
     "execution_count": 68,
     "metadata": {},
     "output_type": "execute_result"
    }
   ],
   "source": [
    "zscore"
   ]
  },
  {
   "cell_type": "code",
   "execution_count": 69,
   "id": "ab3a8541-4969-45a2-85a8-f64baf8beff5",
   "metadata": {},
   "outputs": [
    {
     "data": {
      "text/plain": [
       "0.7931752885494519"
      ]
     },
     "execution_count": 69,
     "metadata": {},
     "output_type": "execute_result"
    }
   ],
   "source": [
    "pvalue"
   ]
  },
  {
   "cell_type": "code",
   "execution_count": 70,
   "id": "28e3357e-e6b5-41b1-9996-9e3e9abefa30",
   "metadata": {},
   "outputs": [
    {
     "name": "stdout",
     "output_type": "stream",
     "text": [
      "fail to reject the null hypothesis\n"
     ]
    }
   ],
   "source": [
    "if pvalue <= 0.05:\n",
    "    print(\"Reject the null hypothesis\")\n",
    "else:\n",
    "    print(\"fail to reject the null hypothesis\")"
   ]
  },
  {
   "cell_type": "markdown",
   "id": "21f01a49-54df-4c26-a356-c01032097520",
   "metadata": {},
   "source": [
    "a school calculated IQ scores of 50 students, the average IQ turned out to be 100. the mean of population IQ is 90 and \n",
    "the standard deviation 16. state whether the claim by school that IQ increases if student study more than avg of school \n",
    "with 5% of significance level \n",
    "\n",
    "null hypothesis : mean_IQ = 90\n",
    "alternative: mean_IQ >90"
   ]
  },
  {
   "cell_type": "code",
   "execution_count": 86,
   "id": "69aebb40-6eb4-4f6b-affc-b6c9864999f4",
   "metadata": {},
   "outputs": [],
   "source": [
    "# zcritical approach\n",
    "import scipy.stats as sts\n",
    "sample_mean = 100\n",
    "population_mean = 90\n",
    "population_std = 16\n",
    "sample_size =50\n",
    "alpha = 0.05"
   ]
  },
  {
   "cell_type": "code",
   "execution_count": 89,
   "id": "eb8e8514-b7c9-4154-8dab-71a5ec4adc0d",
   "metadata": {},
   "outputs": [],
   "source": [
    "zscores = (sample_mean - population_mean) / (population_std / np.sqrt(sample_size))"
   ]
  },
  {
   "cell_type": "code",
   "execution_count": 90,
   "id": "986ac73a-23c7-4b29-811b-2a061cb8b657",
   "metadata": {},
   "outputs": [
    {
     "data": {
      "text/plain": [
       "4.419417382415922"
      ]
     },
     "execution_count": 90,
     "metadata": {},
     "output_type": "execute_result"
    }
   ],
   "source": [
    "zscores"
   ]
  },
  {
   "cell_type": "code",
   "execution_count": 92,
   "id": "f983a49a-9e50-4e91-a9b6-6764d9c3826c",
   "metadata": {},
   "outputs": [],
   "source": [
    "# using sts we can calculated zcritical\n",
    "# ppf --> percent point function --> inverse of cumulative density function"
   ]
  },
  {
   "cell_type": "code",
   "execution_count": 97,
   "id": "bedacb23-57f8-43c1-ad8c-4b470e29ec94",
   "metadata": {},
   "outputs": [
    {
     "data": {
      "text/plain": [
       "1.6448536269514722"
      ]
     },
     "execution_count": 97,
     "metadata": {},
     "output_type": "execute_result"
    }
   ],
   "source": [
    "zcritical=sts.norm.ppf(1-alpha)   # zscore value is positive\n",
    "zcritical"
   ]
  },
  {
   "cell_type": "code",
   "execution_count": 101,
   "id": "ce95150e-db29-4dca-9768-2e9116c3d5ae",
   "metadata": {},
   "outputs": [
    {
     "name": "stdout",
     "output_type": "stream",
     "text": [
      "Reject the H0\n"
     ]
    }
   ],
   "source": [
    "if zscores>= zcritical:\n",
    "    print(\"Reject the H0\")\n",
    "else:\n",
    "    print('fail to reject the H0')"
   ]
  },
  {
   "cell_type": "code",
   "execution_count": 102,
   "id": "bebec33f-ac2c-4014-8ddf-254b47e32219",
   "metadata": {},
   "outputs": [
    {
     "data": {
      "text/plain": [
       "4.948367312573865e-06"
      ]
     },
     "execution_count": 102,
     "metadata": {},
     "output_type": "execute_result"
    }
   ],
   "source": [
    "# pvalue approach using scipy\n",
    "pvalue = 1-sts.norm.cdf(zscores)\n",
    "pvalue"
   ]
  },
  {
   "cell_type": "code",
   "execution_count": 103,
   "id": "d39b2014-3c69-457a-bf23-90425cd40d23",
   "metadata": {},
   "outputs": [
    {
     "name": "stdout",
     "output_type": "stream",
     "text": [
      "reject the H0\n"
     ]
    }
   ],
   "source": [
    "if pvalue <= alpha:\n",
    "    print('reject the H0')\n",
    "else:\n",
    "    print('failed to reject the H0')"
   ]
  },
  {
   "cell_type": "code",
   "execution_count": 132,
   "id": "16affe98-034e-4742-9459-be97edc50c40",
   "metadata": {},
   "outputs": [
    {
     "data": {
      "text/html": [
       "<div>\n",
       "<style scoped>\n",
       "    .dataframe tbody tr th:only-of-type {\n",
       "        vertical-align: middle;\n",
       "    }\n",
       "\n",
       "    .dataframe tbody tr th {\n",
       "        vertical-align: top;\n",
       "    }\n",
       "\n",
       "    .dataframe thead th {\n",
       "        text-align: right;\n",
       "    }\n",
       "</style>\n",
       "<table border=\"1\" class=\"dataframe\">\n",
       "  <thead>\n",
       "    <tr style=\"text-align: right;\">\n",
       "      <th></th>\n",
       "      <th>total_bill</th>\n",
       "      <th>tip</th>\n",
       "      <th>sex</th>\n",
       "      <th>smoker</th>\n",
       "      <th>day</th>\n",
       "      <th>time</th>\n",
       "      <th>size</th>\n",
       "    </tr>\n",
       "  </thead>\n",
       "  <tbody>\n",
       "    <tr>\n",
       "      <th>0</th>\n",
       "      <td>16.99</td>\n",
       "      <td>1.01</td>\n",
       "      <td>Female</td>\n",
       "      <td>No</td>\n",
       "      <td>Sun</td>\n",
       "      <td>Dinner</td>\n",
       "      <td>2</td>\n",
       "    </tr>\n",
       "    <tr>\n",
       "      <th>1</th>\n",
       "      <td>10.34</td>\n",
       "      <td>1.66</td>\n",
       "      <td>Male</td>\n",
       "      <td>No</td>\n",
       "      <td>Sun</td>\n",
       "      <td>Dinner</td>\n",
       "      <td>3</td>\n",
       "    </tr>\n",
       "    <tr>\n",
       "      <th>2</th>\n",
       "      <td>21.01</td>\n",
       "      <td>3.50</td>\n",
       "      <td>Male</td>\n",
       "      <td>No</td>\n",
       "      <td>Sun</td>\n",
       "      <td>Dinner</td>\n",
       "      <td>3</td>\n",
       "    </tr>\n",
       "    <tr>\n",
       "      <th>3</th>\n",
       "      <td>23.68</td>\n",
       "      <td>3.31</td>\n",
       "      <td>Male</td>\n",
       "      <td>No</td>\n",
       "      <td>Sun</td>\n",
       "      <td>Dinner</td>\n",
       "      <td>2</td>\n",
       "    </tr>\n",
       "    <tr>\n",
       "      <th>4</th>\n",
       "      <td>24.59</td>\n",
       "      <td>3.61</td>\n",
       "      <td>Female</td>\n",
       "      <td>No</td>\n",
       "      <td>Sun</td>\n",
       "      <td>Dinner</td>\n",
       "      <td>4</td>\n",
       "    </tr>\n",
       "    <tr>\n",
       "      <th>...</th>\n",
       "      <td>...</td>\n",
       "      <td>...</td>\n",
       "      <td>...</td>\n",
       "      <td>...</td>\n",
       "      <td>...</td>\n",
       "      <td>...</td>\n",
       "      <td>...</td>\n",
       "    </tr>\n",
       "    <tr>\n",
       "      <th>239</th>\n",
       "      <td>29.03</td>\n",
       "      <td>5.92</td>\n",
       "      <td>Male</td>\n",
       "      <td>No</td>\n",
       "      <td>Sat</td>\n",
       "      <td>Dinner</td>\n",
       "      <td>3</td>\n",
       "    </tr>\n",
       "    <tr>\n",
       "      <th>240</th>\n",
       "      <td>27.18</td>\n",
       "      <td>2.00</td>\n",
       "      <td>Female</td>\n",
       "      <td>Yes</td>\n",
       "      <td>Sat</td>\n",
       "      <td>Dinner</td>\n",
       "      <td>2</td>\n",
       "    </tr>\n",
       "    <tr>\n",
       "      <th>241</th>\n",
       "      <td>22.67</td>\n",
       "      <td>2.00</td>\n",
       "      <td>Male</td>\n",
       "      <td>Yes</td>\n",
       "      <td>Sat</td>\n",
       "      <td>Dinner</td>\n",
       "      <td>2</td>\n",
       "    </tr>\n",
       "    <tr>\n",
       "      <th>242</th>\n",
       "      <td>17.82</td>\n",
       "      <td>1.75</td>\n",
       "      <td>Male</td>\n",
       "      <td>No</td>\n",
       "      <td>Sat</td>\n",
       "      <td>Dinner</td>\n",
       "      <td>2</td>\n",
       "    </tr>\n",
       "    <tr>\n",
       "      <th>243</th>\n",
       "      <td>18.78</td>\n",
       "      <td>3.00</td>\n",
       "      <td>Female</td>\n",
       "      <td>No</td>\n",
       "      <td>Thur</td>\n",
       "      <td>Dinner</td>\n",
       "      <td>2</td>\n",
       "    </tr>\n",
       "  </tbody>\n",
       "</table>\n",
       "<p>244 rows × 7 columns</p>\n",
       "</div>"
      ],
      "text/plain": [
       "     total_bill   tip     sex smoker   day    time  size\n",
       "0         16.99  1.01  Female     No   Sun  Dinner     2\n",
       "1         10.34  1.66    Male     No   Sun  Dinner     3\n",
       "2         21.01  3.50    Male     No   Sun  Dinner     3\n",
       "3         23.68  3.31    Male     No   Sun  Dinner     2\n",
       "4         24.59  3.61  Female     No   Sun  Dinner     4\n",
       "..          ...   ...     ...    ...   ...     ...   ...\n",
       "239       29.03  5.92    Male     No   Sat  Dinner     3\n",
       "240       27.18  2.00  Female    Yes   Sat  Dinner     2\n",
       "241       22.67  2.00    Male    Yes   Sat  Dinner     2\n",
       "242       17.82  1.75    Male     No   Sat  Dinner     2\n",
       "243       18.78  3.00  Female     No  Thur  Dinner     2\n",
       "\n",
       "[244 rows x 7 columns]"
      ]
     },
     "execution_count": 132,
     "metadata": {},
     "output_type": "execute_result"
    }
   ],
   "source": [
    "df"
   ]
  },
  {
   "cell_type": "code",
   "execution_count": 139,
   "id": "88c0c1ea-8cd4-45cd-b467-f95883f31562",
   "metadata": {},
   "outputs": [],
   "source": [
    "# if you want to know that if a data is normally distributed or not \n",
    "# make distribution plot, q-q plot \n",
    "# statistical test which helps to know data is normally distributed "
   ]
  },
  {
   "cell_type": "code",
   "execution_count": 153,
   "id": "2b432fd9-c73f-4d65-bdbf-96ce5ed1e2c8",
   "metadata": {},
   "outputs": [],
   "source": [
    "data = pd.read_csv(\"winequalityN.csv\")"
   ]
  },
  {
   "cell_type": "code",
   "execution_count": 159,
   "id": "8ff4f6bc-e028-44fa-be39-66ff3c7665f4",
   "metadata": {},
   "outputs": [
    {
     "data": {
      "text/html": [
       "<div>\n",
       "<style scoped>\n",
       "    .dataframe tbody tr th:only-of-type {\n",
       "        vertical-align: middle;\n",
       "    }\n",
       "\n",
       "    .dataframe tbody tr th {\n",
       "        vertical-align: top;\n",
       "    }\n",
       "\n",
       "    .dataframe thead th {\n",
       "        text-align: right;\n",
       "    }\n",
       "</style>\n",
       "<table border=\"1\" class=\"dataframe\">\n",
       "  <thead>\n",
       "    <tr style=\"text-align: right;\">\n",
       "      <th></th>\n",
       "      <th>fixed acidity</th>\n",
       "      <th>volatile acidity</th>\n",
       "      <th>citric acid</th>\n",
       "      <th>residual sugar</th>\n",
       "      <th>chlorides</th>\n",
       "      <th>free sulfur dioxide</th>\n",
       "      <th>total sulfur dioxide</th>\n",
       "      <th>density</th>\n",
       "      <th>pH</th>\n",
       "      <th>sulphates</th>\n",
       "      <th>alcohol</th>\n",
       "      <th>quality</th>\n",
       "    </tr>\n",
       "  </thead>\n",
       "  <tbody>\n",
       "    <tr>\n",
       "      <th>count</th>\n",
       "      <td>6487.000000</td>\n",
       "      <td>6489.000000</td>\n",
       "      <td>6494.000000</td>\n",
       "      <td>6495.000000</td>\n",
       "      <td>6495.000000</td>\n",
       "      <td>6497.000000</td>\n",
       "      <td>6497.000000</td>\n",
       "      <td>6497.000000</td>\n",
       "      <td>6488.000000</td>\n",
       "      <td>6493.000000</td>\n",
       "      <td>6497.000000</td>\n",
       "      <td>6497.000000</td>\n",
       "    </tr>\n",
       "    <tr>\n",
       "      <th>mean</th>\n",
       "      <td>7.216579</td>\n",
       "      <td>0.339691</td>\n",
       "      <td>0.318722</td>\n",
       "      <td>5.444326</td>\n",
       "      <td>0.056042</td>\n",
       "      <td>30.525319</td>\n",
       "      <td>115.744574</td>\n",
       "      <td>0.994697</td>\n",
       "      <td>3.218395</td>\n",
       "      <td>0.531215</td>\n",
       "      <td>10.491801</td>\n",
       "      <td>5.818378</td>\n",
       "    </tr>\n",
       "    <tr>\n",
       "      <th>std</th>\n",
       "      <td>1.296750</td>\n",
       "      <td>0.164649</td>\n",
       "      <td>0.145265</td>\n",
       "      <td>4.758125</td>\n",
       "      <td>0.035036</td>\n",
       "      <td>17.749400</td>\n",
       "      <td>56.521855</td>\n",
       "      <td>0.002999</td>\n",
       "      <td>0.160748</td>\n",
       "      <td>0.148814</td>\n",
       "      <td>1.192712</td>\n",
       "      <td>0.873255</td>\n",
       "    </tr>\n",
       "    <tr>\n",
       "      <th>min</th>\n",
       "      <td>3.800000</td>\n",
       "      <td>0.080000</td>\n",
       "      <td>0.000000</td>\n",
       "      <td>0.600000</td>\n",
       "      <td>0.009000</td>\n",
       "      <td>1.000000</td>\n",
       "      <td>6.000000</td>\n",
       "      <td>0.987110</td>\n",
       "      <td>2.720000</td>\n",
       "      <td>0.220000</td>\n",
       "      <td>8.000000</td>\n",
       "      <td>3.000000</td>\n",
       "    </tr>\n",
       "    <tr>\n",
       "      <th>25%</th>\n",
       "      <td>6.400000</td>\n",
       "      <td>0.230000</td>\n",
       "      <td>0.250000</td>\n",
       "      <td>1.800000</td>\n",
       "      <td>0.038000</td>\n",
       "      <td>17.000000</td>\n",
       "      <td>77.000000</td>\n",
       "      <td>0.992340</td>\n",
       "      <td>3.110000</td>\n",
       "      <td>0.430000</td>\n",
       "      <td>9.500000</td>\n",
       "      <td>5.000000</td>\n",
       "    </tr>\n",
       "    <tr>\n",
       "      <th>50%</th>\n",
       "      <td>7.000000</td>\n",
       "      <td>0.290000</td>\n",
       "      <td>0.310000</td>\n",
       "      <td>3.000000</td>\n",
       "      <td>0.047000</td>\n",
       "      <td>29.000000</td>\n",
       "      <td>118.000000</td>\n",
       "      <td>0.994890</td>\n",
       "      <td>3.210000</td>\n",
       "      <td>0.510000</td>\n",
       "      <td>10.300000</td>\n",
       "      <td>6.000000</td>\n",
       "    </tr>\n",
       "    <tr>\n",
       "      <th>75%</th>\n",
       "      <td>7.700000</td>\n",
       "      <td>0.400000</td>\n",
       "      <td>0.390000</td>\n",
       "      <td>8.100000</td>\n",
       "      <td>0.065000</td>\n",
       "      <td>41.000000</td>\n",
       "      <td>156.000000</td>\n",
       "      <td>0.996990</td>\n",
       "      <td>3.320000</td>\n",
       "      <td>0.600000</td>\n",
       "      <td>11.300000</td>\n",
       "      <td>6.000000</td>\n",
       "    </tr>\n",
       "    <tr>\n",
       "      <th>max</th>\n",
       "      <td>15.900000</td>\n",
       "      <td>1.580000</td>\n",
       "      <td>1.660000</td>\n",
       "      <td>65.800000</td>\n",
       "      <td>0.611000</td>\n",
       "      <td>289.000000</td>\n",
       "      <td>440.000000</td>\n",
       "      <td>1.038980</td>\n",
       "      <td>4.010000</td>\n",
       "      <td>2.000000</td>\n",
       "      <td>14.900000</td>\n",
       "      <td>9.000000</td>\n",
       "    </tr>\n",
       "  </tbody>\n",
       "</table>\n",
       "</div>"
      ],
      "text/plain": [
       "       fixed acidity  volatile acidity  citric acid  residual sugar  \\\n",
       "count    6487.000000       6489.000000  6494.000000     6495.000000   \n",
       "mean        7.216579          0.339691     0.318722        5.444326   \n",
       "std         1.296750          0.164649     0.145265        4.758125   \n",
       "min         3.800000          0.080000     0.000000        0.600000   \n",
       "25%         6.400000          0.230000     0.250000        1.800000   \n",
       "50%         7.000000          0.290000     0.310000        3.000000   \n",
       "75%         7.700000          0.400000     0.390000        8.100000   \n",
       "max        15.900000          1.580000     1.660000       65.800000   \n",
       "\n",
       "         chlorides  free sulfur dioxide  total sulfur dioxide      density  \\\n",
       "count  6495.000000          6497.000000           6497.000000  6497.000000   \n",
       "mean      0.056042            30.525319            115.744574     0.994697   \n",
       "std       0.035036            17.749400             56.521855     0.002999   \n",
       "min       0.009000             1.000000              6.000000     0.987110   \n",
       "25%       0.038000            17.000000             77.000000     0.992340   \n",
       "50%       0.047000            29.000000            118.000000     0.994890   \n",
       "75%       0.065000            41.000000            156.000000     0.996990   \n",
       "max       0.611000           289.000000            440.000000     1.038980   \n",
       "\n",
       "                pH    sulphates      alcohol      quality  \n",
       "count  6488.000000  6493.000000  6497.000000  6497.000000  \n",
       "mean      3.218395     0.531215    10.491801     5.818378  \n",
       "std       0.160748     0.148814     1.192712     0.873255  \n",
       "min       2.720000     0.220000     8.000000     3.000000  \n",
       "25%       3.110000     0.430000     9.500000     5.000000  \n",
       "50%       3.210000     0.510000    10.300000     6.000000  \n",
       "75%       3.320000     0.600000    11.300000     6.000000  \n",
       "max       4.010000     2.000000    14.900000     9.000000  "
      ]
     },
     "execution_count": 159,
     "metadata": {},
     "output_type": "execute_result"
    }
   ],
   "source": [
    "data.describe()"
   ]
  },
  {
   "cell_type": "code",
   "execution_count": 155,
   "id": "9cc54143-8003-4d66-a0bb-0cf4f73fc8ee",
   "metadata": {},
   "outputs": [
    {
     "data": {
      "text/plain": [
       "<Axes: ylabel='Density'>"
      ]
     },
     "execution_count": 155,
     "metadata": {},
     "output_type": "execute_result"
    },
    {
     "data": {
      "image/png": "[encoded data removed]",
      "text/plain": [
       "<Figure size 640x480 with 1 Axes>"
      ]
     },
     "metadata": {},
     "output_type": "display_data"
    }
   ],
   "source": [
    "pop = np.random.randn(100000)\n",
    "sns.distplot(pop)"
   ]
  },
  {
   "cell_type": "code",
   "execution_count": 156,
   "id": "d9df87c9-c61e-4e0c-b7cc-f19bdc26b64f",
   "metadata": {},
   "outputs": [
    {
     "data": {
      "text/plain": [
       "ShapiroResult(statistic=0.9374216657318369, pvalue=0.010666470560675817)"
      ]
     },
     "execution_count": 156,
     "metadata": {},
     "output_type": "execute_result"
    }
   ],
   "source": [
    "sts.shapiro(population)"
   ]
  },
  {
   "cell_type": "code",
   "execution_count": 157,
   "id": "de0279c4-6fdd-4984-a1ee-f7f28d259165",
   "metadata": {},
   "outputs": [
    {
     "data": {
      "text/plain": [
       "<Axes: xlabel='citric acid', ylabel='Density'>"
      ]
     },
     "execution_count": 157,
     "metadata": {},
     "output_type": "execute_result"
    },
    {
     "data": {
      "image/png": "[encoded data removed]",
      "text/plain": [
       "<Figure size 640x480 with 1 Axes>"
      ]
     },
     "metadata": {},
     "output_type": "display_data"
    }
   ],
   "source": [
    "sns.distplot(data['citric acid'])"
   ]
  },
  {
   "cell_type": "code",
   "execution_count": 160,
   "id": "a7c43e4e-582c-4e6b-9123-04ca39f17ddf",
   "metadata": {},
   "outputs": [
    {
     "data": {
      "text/plain": [
       "ShapiroResult(statistic=nan, pvalue=nan)"
      ]
     },
     "execution_count": 160,
     "metadata": {},
     "output_type": "execute_result"
    }
   ],
   "source": [
    "sts.shapiro(data['chlorides'])"
   ]
  },
  {
   "cell_type": "code",
   "execution_count": 104,
   "id": "39a21496-4791-4f9d-b291-763493a11f7d",
   "metadata": {},
   "outputs": [],
   "source": [
    "# T - test >>ss<30 or sigma of pop is not given \n",
    "# one sample t test (wrt one indenpendent sample)\n",
    "# two sample t test (wrt two indenpendent sample)\n",
    "# paired t test (two sample from same population from different time interval)"
   ]
  },
  {
   "cell_type": "code",
   "execution_count": 106,
   "id": "f508ac68-9337-480c-ab24-33d3a6f503e3",
   "metadata": {},
   "outputs": [
    {
     "data": {
      "text/plain": [
       "array([46, 24, 41, 49, 13, 20, 37, 34, 16, 47, 40, 16, 29, 18, 47, 38, 22,\n",
       "       46, 38, 32, 47, 44, 40, 45, 29, 39, 29, 48, 26, 24, 28, 45, 11, 10,\n",
       "       12, 43, 20, 33, 30, 40, 38, 24, 18, 40, 34, 10, 26, 23, 11, 40])"
      ]
     },
     "execution_count": 106,
     "metadata": {},
     "output_type": "execute_result"
    }
   ],
   "source": [
    "# one sample t test\n",
    "population = np.random.randint(10, 50, 50)\n",
    "population"
   ]
  },
  {
   "cell_type": "code",
   "execution_count": 111,
   "id": "b1211fcb-3f4a-485e-ab41-e4998bfd4f10",
   "metadata": {},
   "outputs": [
    {
     "data": {
      "text/plain": [
       "array([40, 38, 20, 24, 28, 18, 44, 40, 28, 13, 29, 20, 24, 16, 32, 40, 38,\n",
       "       34, 38, 18])"
      ]
     },
     "execution_count": 111,
     "metadata": {},
     "output_type": "execute_result"
    }
   ],
   "source": [
    "sample =  np.random.choice(population,20)\n",
    "sample"
   ]
  },
  {
   "cell_type": "code",
   "execution_count": 112,
   "id": "2c7da825-2e7d-4d82-b975-f3aada29ae4c",
   "metadata": {},
   "outputs": [
    {
     "data": {
      "text/plain": [
       "29.1"
      ]
     },
     "execution_count": 112,
     "metadata": {},
     "output_type": "execute_result"
    }
   ],
   "source": [
    "np.mean(sample)"
   ]
  },
  {
   "cell_type": "code",
   "execution_count": 113,
   "id": "eac0eb2b-7a42-47f0-af04-8221fbea93bf",
   "metadata": {},
   "outputs": [
    {
     "data": {
      "text/plain": [
       "TtestResult(statistic=1.9128389674953814, pvalue=0.07096207685739299, df=19)"
      ]
     },
     "execution_count": 113,
     "metadata": {},
     "output_type": "execute_result"
    }
   ],
   "source": [
    "null_value = 25 #(claim --> the mean of population is 25 )\n",
    "sts.ttest_1samp(sample, null_value)"
   ]
  },
  {
   "cell_type": "code",
   "execution_count": 114,
   "id": "d152a896-194e-425d-8d69-fa0835a02082",
   "metadata": {},
   "outputs": [],
   "source": [
    "# if pvalue>0.05, fail to reject h0"
   ]
  },
  {
   "cell_type": "code",
   "execution_count": 118,
   "id": "f8b1373d-df20-4f34-baa3-87a19c364dc2",
   "metadata": {},
   "outputs": [
    {
     "data": {
      "text/plain": [
       "array([28, 43, 38, 24, 10, 28, 32, 12, 46, 38, 11, 41, 44, 45, 26, 22, 40,\n",
       "       41, 44, 29])"
      ]
     },
     "execution_count": 118,
     "metadata": {},
     "output_type": "execute_result"
    }
   ],
   "source": [
    "# two sample t test\n",
    "soni_score = np.random.choice(population, 20)\n",
    "soni_score"
   ]
  },
  {
   "cell_type": "code",
   "execution_count": 119,
   "id": "ec56f43f-0547-4371-9b2b-8639583740b8",
   "metadata": {},
   "outputs": [
    {
     "data": {
      "text/plain": [
       "array([18, 26, 11, 47, 24, 33, 13, 38, 22, 26, 20, 24, 10, 13, 23, 45, 45,\n",
       "       10, 46, 40])"
      ]
     },
     "execution_count": 119,
     "metadata": {},
     "output_type": "execute_result"
    }
   ],
   "source": [
    "moni_score = np.random.choice(population, 20)\n",
    "moni_score"
   ]
  },
  {
   "cell_type": "code",
   "execution_count": 120,
   "id": "1935fd7e-3c3b-4c6f-8520-eed60a44f324",
   "metadata": {},
   "outputs": [
    {
     "data": {
      "text/plain": [
       "(32.1, 26.7)"
      ]
     },
     "execution_count": 120,
     "metadata": {},
     "output_type": "execute_result"
    }
   ],
   "source": [
    "np.mean(soni_score), np.mean(moni_score)"
   ]
  },
  {
   "cell_type": "code",
   "execution_count": 122,
   "id": "6129f83c-aec1-4d86-9fd3-f4d4426fdffe",
   "metadata": {},
   "outputs": [
    {
     "data": {
      "text/plain": [
       "TtestResult(statistic=1.3836342278840243, pvalue=0.17454502197227262, df=38.0)"
      ]
     },
     "execution_count": 122,
     "metadata": {},
     "output_type": "execute_result"
    }
   ],
   "source": [
    "sts.ttest_ind(soni_score,moni_score)"
   ]
  },
  {
   "cell_type": "code",
   "execution_count": 123,
   "id": "1e3a511e-ba7f-4474-a2b3-64ec0eaad580",
   "metadata": {},
   "outputs": [],
   "source": [
    "# if pvalue > 0.05 then fail to reject h0"
   ]
  },
  {
   "cell_type": "code",
   "execution_count": 125,
   "id": "f30355b6-58c5-495e-b3e8-ed668d65d56a",
   "metadata": {},
   "outputs": [],
   "source": [
    "# paired t test --> two sample from same population at different time interval \n",
    "soni_first_score_inning = [31,36,46,24,48,46,47,47,16,35,45,37,24,29,27,42,49,37,47,46]\n",
    "soni_Second_score_inning = [31,76,46,24,48,23,49,47,37,35,45,37,74,39,27,42,49,37,47,46]"
   ]
  },
  {
   "cell_type": "code",
   "execution_count": 126,
   "id": "53945322-3189-4d25-b88c-5e7a93e5289a",
   "metadata": {},
   "outputs": [
    {
     "data": {
      "text/plain": [
       "(37.95, 42.95)"
      ]
     },
     "execution_count": 126,
     "metadata": {},
     "output_type": "execute_result"
    }
   ],
   "source": [
    "np.mean(soni_first_score_inning), np.mean(soni_Second_score_inning)"
   ]
  },
  {
   "cell_type": "code",
   "execution_count": 127,
   "id": "0ae6cbdd-2d89-4d7a-8046-758d52ed6029",
   "metadata": {},
   "outputs": [
    {
     "data": {
      "text/plain": [
       "TtestResult(statistic=-1.4256648712805027, pvalue=0.1701880684614766, df=19)"
      ]
     },
     "execution_count": 127,
     "metadata": {},
     "output_type": "execute_result"
    }
   ],
   "source": [
    "sts.ttest_rel(soni_first_score_inning, soni_Second_score_inning)"
   ]
  },
  {
   "cell_type": "code",
   "execution_count": 128,
   "id": "fac57628-ba3c-4da4-a9dc-55fbd0b28ea8",
   "metadata": {},
   "outputs": [],
   "source": [
    "# if pvalue>0.05 then fail to reject h0"
   ]
  },
  {
   "cell_type": "code",
   "execution_count": null,
   "id": "4932beea-4858-4938-918b-c7cfa9a2326b",
   "metadata": {},
   "outputs": [],
   "source": []
  }
 ],
 "metadata": {
  "kernelspec": {
   "display_name": "Python 3 (ipykernel)",
   "language": "python",
   "name": "python3"
  },
  "language_info": {
   "codemirror_mode": {
    "name": "ipython",
    "version": 3
   },
   "file_extension": ".py",
   "mimetype": "text/x-python",
   "name": "python",
   "nbconvert_exporter": "python",
   "pygments_lexer": "ipython3",
   "version": "3.11.5"
  }
 },
 "nbformat": 4,
 "nbformat_minor": 5
}
