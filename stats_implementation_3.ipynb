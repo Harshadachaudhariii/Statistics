{
 "cells": [
  {
   "cell_type": "code",
   "execution_count": 1,
   "id": "22d822e0-229a-4b99-ae5d-3dc96101de59",
   "metadata": {},
   "outputs": [],
   "source": [
    "import numpy as np\n",
    "import pandas as pd\n",
    "import matplotlib.pyplot as plt\n",
    "import seaborn as sns\n",
    "import math as m\n",
    "import statistics as stats\n",
    "import scipy.stats as sts\n",
    "alpha = 0.05\n",
    "\n",
    "from scipy.stats import chi2\n",
    "import warnings\n",
    "warnings.filterwarnings(\"ignore\")"
   ]
  },
  {
   "cell_type": "code",
   "execution_count": 2,
   "id": "dee30fd8-5a47-4f7c-9d6c-eeffee26641d",
   "metadata": {},
   "outputs": [],
   "source": [
    "df = sns.load_dataset('tips')"
   ]
  },
  {
   "cell_type": "code",
   "execution_count": 3,
   "id": "21b355c1-10a2-4c6c-99f6-442d2305cdfc",
   "metadata": {},
   "outputs": [
    {
     "data": {
      "text/html": [
       "<div>\n",
       "<style scoped>\n",
       "    .dataframe tbody tr th:only-of-type {\n",
       "        vertical-align: middle;\n",
       "    }\n",
       "\n",
       "    .dataframe tbody tr th {\n",
       "        vertical-align: top;\n",
       "    }\n",
       "\n",
       "    .dataframe thead th {\n",
       "        text-align: right;\n",
       "    }\n",
       "</style>\n",
       "<table border=\"1\" class=\"dataframe\">\n",
       "  <thead>\n",
       "    <tr style=\"text-align: right;\">\n",
       "      <th></th>\n",
       "      <th>total_bill</th>\n",
       "      <th>tip</th>\n",
       "      <th>sex</th>\n",
       "      <th>smoker</th>\n",
       "      <th>day</th>\n",
       "      <th>time</th>\n",
       "      <th>size</th>\n",
       "    </tr>\n",
       "  </thead>\n",
       "  <tbody>\n",
       "    <tr>\n",
       "      <th>0</th>\n",
       "      <td>16.99</td>\n",
       "      <td>1.01</td>\n",
       "      <td>Female</td>\n",
       "      <td>No</td>\n",
       "      <td>Sun</td>\n",
       "      <td>Dinner</td>\n",
       "      <td>2</td>\n",
       "    </tr>\n",
       "    <tr>\n",
       "      <th>1</th>\n",
       "      <td>10.34</td>\n",
       "      <td>1.66</td>\n",
       "      <td>Male</td>\n",
       "      <td>No</td>\n",
       "      <td>Sun</td>\n",
       "      <td>Dinner</td>\n",
       "      <td>3</td>\n",
       "    </tr>\n",
       "    <tr>\n",
       "      <th>2</th>\n",
       "      <td>21.01</td>\n",
       "      <td>3.50</td>\n",
       "      <td>Male</td>\n",
       "      <td>No</td>\n",
       "      <td>Sun</td>\n",
       "      <td>Dinner</td>\n",
       "      <td>3</td>\n",
       "    </tr>\n",
       "    <tr>\n",
       "      <th>3</th>\n",
       "      <td>23.68</td>\n",
       "      <td>3.31</td>\n",
       "      <td>Male</td>\n",
       "      <td>No</td>\n",
       "      <td>Sun</td>\n",
       "      <td>Dinner</td>\n",
       "      <td>2</td>\n",
       "    </tr>\n",
       "    <tr>\n",
       "      <th>4</th>\n",
       "      <td>24.59</td>\n",
       "      <td>3.61</td>\n",
       "      <td>Female</td>\n",
       "      <td>No</td>\n",
       "      <td>Sun</td>\n",
       "      <td>Dinner</td>\n",
       "      <td>4</td>\n",
       "    </tr>\n",
       "    <tr>\n",
       "      <th>...</th>\n",
       "      <td>...</td>\n",
       "      <td>...</td>\n",
       "      <td>...</td>\n",
       "      <td>...</td>\n",
       "      <td>...</td>\n",
       "      <td>...</td>\n",
       "      <td>...</td>\n",
       "    </tr>\n",
       "    <tr>\n",
       "      <th>239</th>\n",
       "      <td>29.03</td>\n",
       "      <td>5.92</td>\n",
       "      <td>Male</td>\n",
       "      <td>No</td>\n",
       "      <td>Sat</td>\n",
       "      <td>Dinner</td>\n",
       "      <td>3</td>\n",
       "    </tr>\n",
       "    <tr>\n",
       "      <th>240</th>\n",
       "      <td>27.18</td>\n",
       "      <td>2.00</td>\n",
       "      <td>Female</td>\n",
       "      <td>Yes</td>\n",
       "      <td>Sat</td>\n",
       "      <td>Dinner</td>\n",
       "      <td>2</td>\n",
       "    </tr>\n",
       "    <tr>\n",
       "      <th>241</th>\n",
       "      <td>22.67</td>\n",
       "      <td>2.00</td>\n",
       "      <td>Male</td>\n",
       "      <td>Yes</td>\n",
       "      <td>Sat</td>\n",
       "      <td>Dinner</td>\n",
       "      <td>2</td>\n",
       "    </tr>\n",
       "    <tr>\n",
       "      <th>242</th>\n",
       "      <td>17.82</td>\n",
       "      <td>1.75</td>\n",
       "      <td>Male</td>\n",
       "      <td>No</td>\n",
       "      <td>Sat</td>\n",
       "      <td>Dinner</td>\n",
       "      <td>2</td>\n",
       "    </tr>\n",
       "    <tr>\n",
       "      <th>243</th>\n",
       "      <td>18.78</td>\n",
       "      <td>3.00</td>\n",
       "      <td>Female</td>\n",
       "      <td>No</td>\n",
       "      <td>Thur</td>\n",
       "      <td>Dinner</td>\n",
       "      <td>2</td>\n",
       "    </tr>\n",
       "  </tbody>\n",
       "</table>\n",
       "<p>244 rows × 7 columns</p>\n",
       "</div>"
      ],
      "text/plain": [
       "     total_bill   tip     sex smoker   day    time  size\n",
       "0         16.99  1.01  Female     No   Sun  Dinner     2\n",
       "1         10.34  1.66    Male     No   Sun  Dinner     3\n",
       "2         21.01  3.50    Male     No   Sun  Dinner     3\n",
       "3         23.68  3.31    Male     No   Sun  Dinner     2\n",
       "4         24.59  3.61  Female     No   Sun  Dinner     4\n",
       "..          ...   ...     ...    ...   ...     ...   ...\n",
       "239       29.03  5.92    Male     No   Sat  Dinner     3\n",
       "240       27.18  2.00  Female    Yes   Sat  Dinner     2\n",
       "241       22.67  2.00    Male    Yes   Sat  Dinner     2\n",
       "242       17.82  1.75    Male     No   Sat  Dinner     2\n",
       "243       18.78  3.00  Female     No  Thur  Dinner     2\n",
       "\n",
       "[244 rows x 7 columns]"
      ]
     },
     "execution_count": 3,
     "metadata": {},
     "output_type": "execute_result"
    }
   ],
   "source": [
    "df"
   ]
  },
  {
   "cell_type": "code",
   "execution_count": 4,
   "id": "371bb5bb-f540-4d54-af4c-b13878fa39d5",
   "metadata": {},
   "outputs": [
    {
     "data": {
      "text/html": [
       "<div>\n",
       "<style scoped>\n",
       "    .dataframe tbody tr th:only-of-type {\n",
       "        vertical-align: middle;\n",
       "    }\n",
       "\n",
       "    .dataframe tbody tr th {\n",
       "        vertical-align: top;\n",
       "    }\n",
       "\n",
       "    .dataframe thead th {\n",
       "        text-align: right;\n",
       "    }\n",
       "</style>\n",
       "<table border=\"1\" class=\"dataframe\">\n",
       "  <thead>\n",
       "    <tr style=\"text-align: right;\">\n",
       "      <th>smoker</th>\n",
       "      <th>Yes</th>\n",
       "      <th>No</th>\n",
       "    </tr>\n",
       "    <tr>\n",
       "      <th>sex</th>\n",
       "      <th></th>\n",
       "      <th></th>\n",
       "    </tr>\n",
       "  </thead>\n",
       "  <tbody>\n",
       "    <tr>\n",
       "      <th>Male</th>\n",
       "      <td>60</td>\n",
       "      <td>97</td>\n",
       "    </tr>\n",
       "    <tr>\n",
       "      <th>Female</th>\n",
       "      <td>33</td>\n",
       "      <td>54</td>\n",
       "    </tr>\n",
       "  </tbody>\n",
       "</table>\n",
       "</div>"
      ],
      "text/plain": [
       "smoker  Yes  No\n",
       "sex            \n",
       "Male     60  97\n",
       "Female   33  54"
      ]
     },
     "execution_count": 4,
     "metadata": {},
     "output_type": "execute_result"
    }
   ],
   "source": [
    "data_table = pd.crosstab(df['sex'], df['smoker'])\n",
    "data_table"
   ]
  },
  {
   "cell_type": "code",
   "execution_count": 5,
   "id": "409c09b7-407c-43e5-8111-4fbde53bd014",
   "metadata": {},
   "outputs": [],
   "source": [
    "# in chi square test --> observed value and expected value\n",
    "observed_value=data_table.values  #observed value"
   ]
  },
  {
   "cell_type": "code",
   "execution_count": 6,
   "id": "ee2b8d70-8391-405f-bc50-a34ec1071fd0",
   "metadata": {},
   "outputs": [],
   "source": [
    "# 1st approach --> allowing chi2 itself some expected values \n",
    "stats_test, p, dof, expected_value=sts.chi2_contingency(observed_value)"
   ]
  },
  {
   "cell_type": "code",
   "execution_count": 7,
   "id": "3c25a0f2-4211-4280-90e2-4671ab6146ea",
   "metadata": {},
   "outputs": [
    {
     "data": {
      "text/plain": [
       "array([[59.84016393, 97.15983607],\n",
       "       [33.15983607, 53.84016393]])"
      ]
     },
     "execution_count": 7,
     "metadata": {},
     "output_type": "execute_result"
    }
   ],
   "source": [
    "expected_value"
   ]
  },
  {
   "cell_type": "code",
   "execution_count": 8,
   "id": "957ffb01-eedd-4a5d-9031-edf56606cc6b",
   "metadata": {},
   "outputs": [],
   "source": [
    "# x2= (o-e)**2/e "
   ]
  },
  {
   "cell_type": "code",
   "execution_count": 9,
   "id": "dc1f6835-6df9-4953-b15d-024168007f9c",
   "metadata": {},
   "outputs": [
    {
     "name": "stdout",
     "output_type": "stream",
     "text": [
      "(array([60, 97], dtype=int64), array([59.84016393, 97.15983607]))\n",
      "(array([33, 54], dtype=int64), array([33.15983607, 53.84016393]))\n"
     ]
    }
   ],
   "source": [
    "for i in zip(observed_value, expected_value):   #zip function do basically pair\n",
    "    print(i)"
   ]
  },
  {
   "cell_type": "code",
   "execution_count": 10,
   "id": "ffb9e1c0-6715-4a52-b866-4f21f3b49a29",
   "metadata": {},
   "outputs": [],
   "source": [
    "chisquare_test=sum([(o-e)**2 / e for o,e in zip(observed_value, expected_value)])"
   ]
  },
  {
   "cell_type": "code",
   "execution_count": 11,
   "id": "ef26a1ef-6829-4a7b-982f-ea220b5c515b",
   "metadata": {},
   "outputs": [
    {
     "data": {
      "text/plain": [
       "0.001934818536627623"
      ]
     },
     "execution_count": 11,
     "metadata": {},
     "output_type": "execute_result"
    }
   ],
   "source": [
    "chisquare_stats = chisquare_test[0]+ chisquare_test[1]\n",
    "chisquare_stats"
   ]
  },
  {
   "cell_type": "code",
   "execution_count": 12,
   "id": "ab11babd-f8bb-4576-abac-f0719cd3b878",
   "metadata": {},
   "outputs": [
    {
     "data": {
      "text/plain": [
       "1"
      ]
     },
     "execution_count": 12,
     "metadata": {},
     "output_type": "execute_result"
    }
   ],
   "source": [
    "dof"
   ]
  },
  {
   "cell_type": "code",
   "execution_count": 13,
   "id": "c8a10ed8-fde3-4aca-a98a-c5dac1a7cb48",
   "metadata": {},
   "outputs": [
    {
     "data": {
      "text/plain": [
       "1.0"
      ]
     },
     "execution_count": 13,
     "metadata": {},
     "output_type": "execute_result"
    }
   ],
   "source": [
    "p"
   ]
  },
  {
   "cell_type": "code",
   "execution_count": 14,
   "id": "9d2657b7-5561-4e44-9c7f-981b7d60a0f1",
   "metadata": {},
   "outputs": [
    {
     "data": {
      "text/plain": [
       "0.05"
      ]
     },
     "execution_count": 14,
     "metadata": {},
     "output_type": "execute_result"
    }
   ],
   "source": [
    "alpha"
   ]
  },
  {
   "cell_type": "code",
   "execution_count": 15,
   "id": "bbee30d2-62ea-4c1a-bf9a-df5c79741b67",
   "metadata": {},
   "outputs": [
    {
     "data": {
      "text/plain": [
       "3.841458820694124"
      ]
     },
     "execution_count": 15,
     "metadata": {},
     "output_type": "execute_result"
    }
   ],
   "source": [
    "chi2_critical = sts.chi2.ppf(1-alpha, df= dof)\n",
    "chi2_critical"
   ]
  },
  {
   "cell_type": "code",
   "execution_count": 16,
   "id": "0f3bc1b7-7266-4d88-b5e6-862411e6368c",
   "metadata": {},
   "outputs": [
    {
     "name": "stdout",
     "output_type": "stream",
     "text": [
      "Failed to reject the H0, no relationship\n"
     ]
    }
   ],
   "source": [
    "if chisquare_stats > chi2_critical:\n",
    "    print(\"Reject the H0, there is relationship between two categorical variables\")\n",
    "else:\n",
    "    print(\"Failed to reject the H0, no relationship\")"
   ]
  },
  {
   "cell_type": "code",
   "execution_count": 17,
   "id": "6ebb7838-212f-4ecd-b9a8-c382179a567d",
   "metadata": {},
   "outputs": [
    {
     "data": {
      "text/plain": [
       "0.964915107315732"
      ]
     },
     "execution_count": 17,
     "metadata": {},
     "output_type": "execute_result"
    }
   ],
   "source": [
    "# pvalue method\n",
    "pvalue = 1-sts.chi2.cdf(x=chisquare_stats, df=dof)\n",
    "pvalue"
   ]
  },
  {
   "cell_type": "code",
   "execution_count": 18,
   "id": "efc1612f-e73b-4321-9592-ce8b37bca349",
   "metadata": {},
   "outputs": [
    {
     "name": "stdout",
     "output_type": "stream",
     "text": [
      "Failed to reject the H0, no relationship\n"
     ]
    }
   ],
   "source": [
    "if pvalue<= alpha:\n",
    "    print(\"Reject the H0, there is relationship between two categorical variables\")\n",
    "else:\n",
    "    print(\"Failed to reject the H0, no relationship\")"
   ]
  },
  {
   "cell_type": "code",
   "execution_count": 19,
   "id": "9226d9f3-467e-48bc-beb0-844bc94aef85",
   "metadata": {},
   "outputs": [],
   "source": [
    "# another approach \n",
    "# no of hours studies daily on a weekly basis\n",
    "# monday, tuesday, ...,sunday\n",
    "expected_data=[8,5,6,8,5,7,6]\n",
    "observed_data= [7,4,7,9,4,8,6]"
   ]
  },
  {
   "cell_type": "code",
   "execution_count": 20,
   "id": "1951e0b2-418c-448e-9383-bb8f98541e6a",
   "metadata": {},
   "outputs": [
    {
     "data": {
      "text/plain": [
       "(45, 45)"
      ]
     },
     "execution_count": 20,
     "metadata": {},
     "output_type": "execute_result"
    }
   ],
   "source": [
    "sum(expected_data), sum(observed_data)"
   ]
  },
  {
   "cell_type": "code",
   "execution_count": 21,
   "id": "a8ffbfd6-e439-47d7-a248-3a72e9afe277",
   "metadata": {},
   "outputs": [],
   "source": [
    "ch_stats, pvalue =sts.chisquare(observed_data, expected_data)"
   ]
  },
  {
   "cell_type": "code",
   "execution_count": 22,
   "id": "15e26812-b5fd-4f4e-be9f-c18676390a7a",
   "metadata": {},
   "outputs": [
    {
     "data": {
      "text/plain": [
       "0.9595238095238094"
      ]
     },
     "execution_count": 22,
     "metadata": {},
     "output_type": "execute_result"
    }
   ],
   "source": [
    "ch_stats"
   ]
  },
  {
   "cell_type": "code",
   "execution_count": 23,
   "id": "2d7d95f4-6f80-4179-8504-d13762ee2802",
   "metadata": {},
   "outputs": [
    {
     "data": {
      "text/plain": [
       "0.9871002325555286"
      ]
     },
     "execution_count": 23,
     "metadata": {},
     "output_type": "execute_result"
    }
   ],
   "source": [
    "pvalue"
   ]
  },
  {
   "cell_type": "code",
   "execution_count": 24,
   "id": "83a60272-8a73-4d5f-b9a9-a1ad4e021673",
   "metadata": {},
   "outputs": [
    {
     "data": {
      "text/plain": [
       "0.05"
      ]
     },
     "execution_count": 24,
     "metadata": {},
     "output_type": "execute_result"
    }
   ],
   "source": [
    "# find the critical value\n",
    "alpha"
   ]
  },
  {
   "cell_type": "code",
   "execution_count": 25,
   "id": "dc38ddcd-ccd0-4c9a-b0b3-236c9a750805",
   "metadata": {},
   "outputs": [],
   "source": [
    "dof = len(observed_data)-1"
   ]
  },
  {
   "cell_type": "code",
   "execution_count": 26,
   "id": "2ec52d7b-3b28-4cda-8832-2c26606a0c04",
   "metadata": {},
   "outputs": [
    {
     "data": {
      "text/plain": [
       "6"
      ]
     },
     "execution_count": 26,
     "metadata": {},
     "output_type": "execute_result"
    }
   ],
   "source": [
    "dof"
   ]
  },
  {
   "cell_type": "code",
   "execution_count": 27,
   "id": "b945063d-31df-4dfe-aeed-3b5678bfcf17",
   "metadata": {},
   "outputs": [],
   "source": [
    "critical_value= sts.chi2.ppf(1-alpha, dof)"
   ]
  },
  {
   "cell_type": "code",
   "execution_count": 28,
   "id": "9cf2ce1a-ed6b-468a-a2a7-55cb2fd121fc",
   "metadata": {},
   "outputs": [
    {
     "data": {
      "text/plain": [
       "12.591587243743977"
      ]
     },
     "execution_count": 28,
     "metadata": {},
     "output_type": "execute_result"
    }
   ],
   "source": [
    "critical_value"
   ]
  },
  {
   "cell_type": "code",
   "execution_count": 29,
   "id": "c6a41509-de78-4326-a5cc-5bc73ca5461b",
   "metadata": {},
   "outputs": [
    {
     "name": "stdout",
     "output_type": "stream",
     "text": [
      "Failed the reject the H0\n"
     ]
    }
   ],
   "source": [
    "if ch_stats> critical_value:\n",
    "    print(\"Reject the H0\")\n",
    "else:\n",
    "    print(\"Failed the reject the H0\")"
   ]
  },
  {
   "cell_type": "code",
   "execution_count": 30,
   "id": "a3f0a1b3-124d-46c3-ab5e-8dea0c05d6f0",
   "metadata": {},
   "outputs": [],
   "source": [
    "# f test"
   ]
  },
  {
   "cell_type": "code",
   "execution_count": 31,
   "id": "250e278d-be8e-435c-8ff6-bd6500c4cce0",
   "metadata": {},
   "outputs": [],
   "source": [
    "worker1 = [18,17,20,25,27,55,51,42,46,29]\n",
    "worker2 = [18,16,22,26,39,51,48,44,58,12]\n",
    "fstats= np.var(worker1) / np.var(worker2)"
   ]
  },
  {
   "cell_type": "code",
   "execution_count": 32,
   "id": "44a13aad-f78b-4ae5-9a4e-a67553f2a571",
   "metadata": {},
   "outputs": [
    {
     "data": {
      "text/plain": [
       "0.743155149934811"
      ]
     },
     "execution_count": 32,
     "metadata": {},
     "output_type": "execute_result"
    }
   ],
   "source": [
    "fstats"
   ]
  },
  {
   "cell_type": "code",
   "execution_count": 33,
   "id": "7025f993-b2b5-40b8-9b77-b8155eeaab9b",
   "metadata": {},
   "outputs": [],
   "source": [
    "df1 = len(worker1)-1\n",
    "df2 = len(worker1)-1\n",
    "alpha =0.05"
   ]
  },
  {
   "cell_type": "code",
   "execution_count": 34,
   "id": "4207d428-5ebb-4906-babe-5c7886acdec5",
   "metadata": {},
   "outputs": [
    {
     "data": {
      "text/plain": [
       "(9, 9)"
      ]
     },
     "execution_count": 34,
     "metadata": {},
     "output_type": "execute_result"
    }
   ],
   "source": [
    "df1, df2"
   ]
  },
  {
   "cell_type": "code",
   "execution_count": 35,
   "id": "d9b6d04c-f9a9-4824-ab9b-167fff6c0661",
   "metadata": {},
   "outputs": [],
   "source": [
    "#  f critical\n",
    "f_critical = sts.f.ppf(1-alpha, dfn=df1, dfd= df2)"
   ]
  },
  {
   "cell_type": "code",
   "execution_count": 36,
   "id": "75eceadb-e6d6-46f1-acb9-f4f58e106a60",
   "metadata": {},
   "outputs": [
    {
     "name": "stdout",
     "output_type": "stream",
     "text": [
      "Failed to reject the H0\n"
     ]
    }
   ],
   "source": [
    "if fstats >= f_critical:\n",
    "    print(\"Reject the H0\")\n",
    "else:\n",
    "    print(\"Failed to reject the H0\")"
   ]
  },
  {
   "cell_type": "code",
   "execution_count": 37,
   "id": "217647a9-56f8-4590-a6e3-352306463c32",
   "metadata": {},
   "outputs": [],
   "source": [
    "# ANOVA test"
   ]
  },
  {
   "cell_type": "code",
   "execution_count": 38,
   "id": "b651b51d-fff6-4bdb-8932-fdee71f8b9a0",
   "metadata": {},
   "outputs": [],
   "source": [
    "# to compare two or more than two means"
   ]
  },
  {
   "cell_type": "code",
   "execution_count": 54,
   "id": "74700f48-a1cc-4eeb-b242-65e2d2ee1f55",
   "metadata": {},
   "outputs": [],
   "source": [
    "df = pd.read_excel(\"plant.xlsx\")"
   ]
  },
  {
   "cell_type": "code",
   "execution_count": 55,
   "id": "06bd952b-6647-45db-a542-530f1f787c8d",
   "metadata": {},
   "outputs": [
    {
     "data": {
      "text/html": [
       "<div>\n",
       "<style scoped>\n",
       "    .dataframe tbody tr th:only-of-type {\n",
       "        vertical-align: middle;\n",
       "    }\n",
       "\n",
       "    .dataframe tbody tr th {\n",
       "        vertical-align: top;\n",
       "    }\n",
       "\n",
       "    .dataframe thead th {\n",
       "        text-align: right;\n",
       "    }\n",
       "</style>\n",
       "<table border=\"1\" class=\"dataframe\">\n",
       "  <thead>\n",
       "    <tr style=\"text-align: right;\">\n",
       "      <th></th>\n",
       "      <th>unamed:  0</th>\n",
       "      <th>wieght</th>\n",
       "      <th>group</th>\n",
       "    </tr>\n",
       "  </thead>\n",
       "  <tbody>\n",
       "    <tr>\n",
       "      <th>0</th>\n",
       "      <td>1</td>\n",
       "      <td>4.17</td>\n",
       "      <td>ctrl</td>\n",
       "    </tr>\n",
       "    <tr>\n",
       "      <th>1</th>\n",
       "      <td>2</td>\n",
       "      <td>5.58</td>\n",
       "      <td>ctrl</td>\n",
       "    </tr>\n",
       "    <tr>\n",
       "      <th>2</th>\n",
       "      <td>3</td>\n",
       "      <td>5.18</td>\n",
       "      <td>ctrl</td>\n",
       "    </tr>\n",
       "    <tr>\n",
       "      <th>3</th>\n",
       "      <td>4</td>\n",
       "      <td>6.11</td>\n",
       "      <td>ctrl</td>\n",
       "    </tr>\n",
       "    <tr>\n",
       "      <th>4</th>\n",
       "      <td>5</td>\n",
       "      <td>4.50</td>\n",
       "      <td>ctrl</td>\n",
       "    </tr>\n",
       "    <tr>\n",
       "      <th>5</th>\n",
       "      <td>6</td>\n",
       "      <td>4.61</td>\n",
       "      <td>ctrl</td>\n",
       "    </tr>\n",
       "    <tr>\n",
       "      <th>6</th>\n",
       "      <td>7</td>\n",
       "      <td>5.17</td>\n",
       "      <td>ctrl</td>\n",
       "    </tr>\n",
       "    <tr>\n",
       "      <th>7</th>\n",
       "      <td>8</td>\n",
       "      <td>4.53</td>\n",
       "      <td>ctrl</td>\n",
       "    </tr>\n",
       "    <tr>\n",
       "      <th>8</th>\n",
       "      <td>9</td>\n",
       "      <td>5.33</td>\n",
       "      <td>ctrl</td>\n",
       "    </tr>\n",
       "    <tr>\n",
       "      <th>9</th>\n",
       "      <td>10</td>\n",
       "      <td>5.14</td>\n",
       "      <td>trt1</td>\n",
       "    </tr>\n",
       "    <tr>\n",
       "      <th>10</th>\n",
       "      <td>11</td>\n",
       "      <td>4.81</td>\n",
       "      <td>trt1</td>\n",
       "    </tr>\n",
       "    <tr>\n",
       "      <th>11</th>\n",
       "      <td>12</td>\n",
       "      <td>4.17</td>\n",
       "      <td>trt1</td>\n",
       "    </tr>\n",
       "    <tr>\n",
       "      <th>12</th>\n",
       "      <td>13</td>\n",
       "      <td>4.41</td>\n",
       "      <td>trt1</td>\n",
       "    </tr>\n",
       "    <tr>\n",
       "      <th>13</th>\n",
       "      <td>14</td>\n",
       "      <td>3.59</td>\n",
       "      <td>trt1</td>\n",
       "    </tr>\n",
       "    <tr>\n",
       "      <th>14</th>\n",
       "      <td>15</td>\n",
       "      <td>5.87</td>\n",
       "      <td>trt1</td>\n",
       "    </tr>\n",
       "    <tr>\n",
       "      <th>15</th>\n",
       "      <td>16</td>\n",
       "      <td>3.83</td>\n",
       "      <td>trt1</td>\n",
       "    </tr>\n",
       "    <tr>\n",
       "      <th>16</th>\n",
       "      <td>17</td>\n",
       "      <td>6.03</td>\n",
       "      <td>trt1</td>\n",
       "    </tr>\n",
       "    <tr>\n",
       "      <th>17</th>\n",
       "      <td>18</td>\n",
       "      <td>4.89</td>\n",
       "      <td>trt1</td>\n",
       "    </tr>\n",
       "    <tr>\n",
       "      <th>18</th>\n",
       "      <td>19</td>\n",
       "      <td>4.32</td>\n",
       "      <td>trt1</td>\n",
       "    </tr>\n",
       "    <tr>\n",
       "      <th>19</th>\n",
       "      <td>20</td>\n",
       "      <td>4.69</td>\n",
       "      <td>trt1</td>\n",
       "    </tr>\n",
       "    <tr>\n",
       "      <th>20</th>\n",
       "      <td>21</td>\n",
       "      <td>6.31</td>\n",
       "      <td>trt2</td>\n",
       "    </tr>\n",
       "    <tr>\n",
       "      <th>21</th>\n",
       "      <td>22</td>\n",
       "      <td>5.12</td>\n",
       "      <td>trt2</td>\n",
       "    </tr>\n",
       "    <tr>\n",
       "      <th>22</th>\n",
       "      <td>23</td>\n",
       "      <td>5.54</td>\n",
       "      <td>trt2</td>\n",
       "    </tr>\n",
       "    <tr>\n",
       "      <th>23</th>\n",
       "      <td>24</td>\n",
       "      <td>5.50</td>\n",
       "      <td>trt2</td>\n",
       "    </tr>\n",
       "    <tr>\n",
       "      <th>24</th>\n",
       "      <td>25</td>\n",
       "      <td>5.37</td>\n",
       "      <td>trt2</td>\n",
       "    </tr>\n",
       "    <tr>\n",
       "      <th>25</th>\n",
       "      <td>26</td>\n",
       "      <td>5.29</td>\n",
       "      <td>trt2</td>\n",
       "    </tr>\n",
       "    <tr>\n",
       "      <th>26</th>\n",
       "      <td>27</td>\n",
       "      <td>4.92</td>\n",
       "      <td>trt2</td>\n",
       "    </tr>\n",
       "    <tr>\n",
       "      <th>27</th>\n",
       "      <td>28</td>\n",
       "      <td>5.80</td>\n",
       "      <td>trt2</td>\n",
       "    </tr>\n",
       "    <tr>\n",
       "      <th>28</th>\n",
       "      <td>29</td>\n",
       "      <td>5.26</td>\n",
       "      <td>trt2</td>\n",
       "    </tr>\n",
       "  </tbody>\n",
       "</table>\n",
       "</div>"
      ],
      "text/plain": [
       "    unamed:  0  wieght  group\n",
       "0            1    4.17   ctrl\n",
       "1            2    5.58   ctrl\n",
       "2            3    5.18   ctrl\n",
       "3            4    6.11   ctrl\n",
       "4            5    4.50   ctrl\n",
       "5            6    4.61   ctrl\n",
       "6            7    5.17   ctrl\n",
       "7            8    4.53   ctrl\n",
       "8            9    5.33   ctrl\n",
       "9           10    5.14  trt1 \n",
       "10          11    4.81  trt1 \n",
       "11          12    4.17  trt1 \n",
       "12          13    4.41  trt1 \n",
       "13          14    3.59  trt1 \n",
       "14          15    5.87   trt1\n",
       "15          16    3.83   trt1\n",
       "16          17    6.03   trt1\n",
       "17          18    4.89   trt1\n",
       "18          19    4.32   trt1\n",
       "19          20    4.69   trt1\n",
       "20          21    6.31   trt2\n",
       "21          22    5.12   trt2\n",
       "22          23    5.54   trt2\n",
       "23          24    5.50   trt2\n",
       "24          25    5.37   trt2\n",
       "25          26    5.29   trt2\n",
       "26          27    4.92   trt2\n",
       "27          28    5.80   trt2\n",
       "28          29    5.26   trt2"
      ]
     },
     "execution_count": 55,
     "metadata": {},
     "output_type": "execute_result"
    }
   ],
   "source": [
    "df"
   ]
  },
  {
   "cell_type": "code",
   "execution_count": 56,
   "id": "660c7aea-d7cc-4f3c-be3f-3debb228d181",
   "metadata": {},
   "outputs": [],
   "source": [
    "df.drop(\"unamed:  0\", axis =1, inplace=True)\n",
    "# print(df.columns)"
   ]
  },
  {
   "cell_type": "code",
   "execution_count": 57,
   "id": "808e4caa-0d69-4b8f-8219-8cec7ea83bcf",
   "metadata": {},
   "outputs": [
    {
     "data": {
      "text/html": [
       "<div>\n",
       "<style scoped>\n",
       "    .dataframe tbody tr th:only-of-type {\n",
       "        vertical-align: middle;\n",
       "    }\n",
       "\n",
       "    .dataframe tbody tr th {\n",
       "        vertical-align: top;\n",
       "    }\n",
       "\n",
       "    .dataframe thead th {\n",
       "        text-align: right;\n",
       "    }\n",
       "</style>\n",
       "<table border=\"1\" class=\"dataframe\">\n",
       "  <thead>\n",
       "    <tr style=\"text-align: right;\">\n",
       "      <th></th>\n",
       "      <th>wieght</th>\n",
       "      <th>group</th>\n",
       "    </tr>\n",
       "  </thead>\n",
       "  <tbody>\n",
       "    <tr>\n",
       "      <th>0</th>\n",
       "      <td>4.17</td>\n",
       "      <td>ctrl</td>\n",
       "    </tr>\n",
       "    <tr>\n",
       "      <th>1</th>\n",
       "      <td>5.58</td>\n",
       "      <td>ctrl</td>\n",
       "    </tr>\n",
       "    <tr>\n",
       "      <th>2</th>\n",
       "      <td>5.18</td>\n",
       "      <td>ctrl</td>\n",
       "    </tr>\n",
       "    <tr>\n",
       "      <th>3</th>\n",
       "      <td>6.11</td>\n",
       "      <td>ctrl</td>\n",
       "    </tr>\n",
       "    <tr>\n",
       "      <th>4</th>\n",
       "      <td>4.50</td>\n",
       "      <td>ctrl</td>\n",
       "    </tr>\n",
       "    <tr>\n",
       "      <th>5</th>\n",
       "      <td>4.61</td>\n",
       "      <td>ctrl</td>\n",
       "    </tr>\n",
       "    <tr>\n",
       "      <th>6</th>\n",
       "      <td>5.17</td>\n",
       "      <td>ctrl</td>\n",
       "    </tr>\n",
       "    <tr>\n",
       "      <th>7</th>\n",
       "      <td>4.53</td>\n",
       "      <td>ctrl</td>\n",
       "    </tr>\n",
       "    <tr>\n",
       "      <th>8</th>\n",
       "      <td>5.33</td>\n",
       "      <td>ctrl</td>\n",
       "    </tr>\n",
       "    <tr>\n",
       "      <th>9</th>\n",
       "      <td>5.14</td>\n",
       "      <td>trt1</td>\n",
       "    </tr>\n",
       "    <tr>\n",
       "      <th>10</th>\n",
       "      <td>4.81</td>\n",
       "      <td>trt1</td>\n",
       "    </tr>\n",
       "    <tr>\n",
       "      <th>11</th>\n",
       "      <td>4.17</td>\n",
       "      <td>trt1</td>\n",
       "    </tr>\n",
       "    <tr>\n",
       "      <th>12</th>\n",
       "      <td>4.41</td>\n",
       "      <td>trt1</td>\n",
       "    </tr>\n",
       "    <tr>\n",
       "      <th>13</th>\n",
       "      <td>3.59</td>\n",
       "      <td>trt1</td>\n",
       "    </tr>\n",
       "    <tr>\n",
       "      <th>14</th>\n",
       "      <td>5.87</td>\n",
       "      <td>trt1</td>\n",
       "    </tr>\n",
       "    <tr>\n",
       "      <th>15</th>\n",
       "      <td>3.83</td>\n",
       "      <td>trt1</td>\n",
       "    </tr>\n",
       "    <tr>\n",
       "      <th>16</th>\n",
       "      <td>6.03</td>\n",
       "      <td>trt1</td>\n",
       "    </tr>\n",
       "    <tr>\n",
       "      <th>17</th>\n",
       "      <td>4.89</td>\n",
       "      <td>trt1</td>\n",
       "    </tr>\n",
       "    <tr>\n",
       "      <th>18</th>\n",
       "      <td>4.32</td>\n",
       "      <td>trt1</td>\n",
       "    </tr>\n",
       "    <tr>\n",
       "      <th>19</th>\n",
       "      <td>4.69</td>\n",
       "      <td>trt1</td>\n",
       "    </tr>\n",
       "    <tr>\n",
       "      <th>20</th>\n",
       "      <td>6.31</td>\n",
       "      <td>trt2</td>\n",
       "    </tr>\n",
       "    <tr>\n",
       "      <th>21</th>\n",
       "      <td>5.12</td>\n",
       "      <td>trt2</td>\n",
       "    </tr>\n",
       "    <tr>\n",
       "      <th>22</th>\n",
       "      <td>5.54</td>\n",
       "      <td>trt2</td>\n",
       "    </tr>\n",
       "    <tr>\n",
       "      <th>23</th>\n",
       "      <td>5.50</td>\n",
       "      <td>trt2</td>\n",
       "    </tr>\n",
       "    <tr>\n",
       "      <th>24</th>\n",
       "      <td>5.37</td>\n",
       "      <td>trt2</td>\n",
       "    </tr>\n",
       "    <tr>\n",
       "      <th>25</th>\n",
       "      <td>5.29</td>\n",
       "      <td>trt2</td>\n",
       "    </tr>\n",
       "    <tr>\n",
       "      <th>26</th>\n",
       "      <td>4.92</td>\n",
       "      <td>trt2</td>\n",
       "    </tr>\n",
       "    <tr>\n",
       "      <th>27</th>\n",
       "      <td>5.80</td>\n",
       "      <td>trt2</td>\n",
       "    </tr>\n",
       "    <tr>\n",
       "      <th>28</th>\n",
       "      <td>5.26</td>\n",
       "      <td>trt2</td>\n",
       "    </tr>\n",
       "  </tbody>\n",
       "</table>\n",
       "</div>"
      ],
      "text/plain": [
       "    wieght  group\n",
       "0     4.17   ctrl\n",
       "1     5.58   ctrl\n",
       "2     5.18   ctrl\n",
       "3     6.11   ctrl\n",
       "4     4.50   ctrl\n",
       "5     4.61   ctrl\n",
       "6     5.17   ctrl\n",
       "7     4.53   ctrl\n",
       "8     5.33   ctrl\n",
       "9     5.14  trt1 \n",
       "10    4.81  trt1 \n",
       "11    4.17  trt1 \n",
       "12    4.41  trt1 \n",
       "13    3.59  trt1 \n",
       "14    5.87   trt1\n",
       "15    3.83   trt1\n",
       "16    6.03   trt1\n",
       "17    4.89   trt1\n",
       "18    4.32   trt1\n",
       "19    4.69   trt1\n",
       "20    6.31   trt2\n",
       "21    5.12   trt2\n",
       "22    5.54   trt2\n",
       "23    5.50   trt2\n",
       "24    5.37   trt2\n",
       "25    5.29   trt2\n",
       "26    4.92   trt2\n",
       "27    5.80   trt2\n",
       "28    5.26   trt2"
      ]
     },
     "execution_count": 57,
     "metadata": {},
     "output_type": "execute_result"
    }
   ],
   "source": [
    "df"
   ]
  },
  {
   "cell_type": "code",
   "execution_count": 58,
   "id": "c5e58c5f-13c8-440b-bdaa-9100f079cb5c",
   "metadata": {},
   "outputs": [
    {
     "data": {
      "text/plain": [
       "array(['ctrl', 'trt1 ', 'trt1', 'trt2'], dtype=object)"
      ]
     },
     "execution_count": 58,
     "metadata": {},
     "output_type": "execute_result"
    }
   ],
   "source": [
    "groups= df.group.unique()\n",
    "groups"
   ]
  },
  {
   "cell_type": "code",
   "execution_count": 59,
   "id": "ad551e7c-808d-4d50-9956-239fada2c9ab",
   "metadata": {},
   "outputs": [
    {
     "data": {
      "text/plain": [
       "{'ctrl': 0    4.17\n",
       " 1    5.58\n",
       " 2    5.18\n",
       " 3    6.11\n",
       " 4    4.50\n",
       " 5    4.61\n",
       " 6    5.17\n",
       " 7    4.53\n",
       " 8    5.33\n",
       " Name: wieght, dtype: float64,\n",
       " 'trt1 ': 9     5.14\n",
       " 10    4.81\n",
       " 11    4.17\n",
       " 12    4.41\n",
       " 13    3.59\n",
       " Name: wieght, dtype: float64,\n",
       " 'trt1': 14    5.87\n",
       " 15    3.83\n",
       " 16    6.03\n",
       " 17    4.89\n",
       " 18    4.32\n",
       " 19    4.69\n",
       " Name: wieght, dtype: float64,\n",
       " 'trt2': 20    6.31\n",
       " 21    5.12\n",
       " 22    5.54\n",
       " 23    5.50\n",
       " 24    5.37\n",
       " 25    5.29\n",
       " 26    4.92\n",
       " 27    5.80\n",
       " 28    5.26\n",
       " Name: wieght, dtype: float64}"
      ]
     },
     "execution_count": 59,
     "metadata": {},
     "output_type": "execute_result"
    }
   ],
   "source": [
    "data = {grp: df['wieght'] [df.group==grp] for grp in groups }\n",
    "data"
   ]
  },
  {
   "cell_type": "code",
   "execution_count": 60,
   "id": "1b6522ac-da27-4537-a169-ab9d5b423df5",
   "metadata": {},
   "outputs": [
    {
     "data": {
      "text/plain": [
       "0    4.17\n",
       "1    5.58\n",
       "2    5.18\n",
       "3    6.11\n",
       "4    4.50\n",
       "5    4.61\n",
       "6    5.17\n",
       "7    4.53\n",
       "8    5.33\n",
       "Name: wieght, dtype: float64"
      ]
     },
     "execution_count": 60,
     "metadata": {},
     "output_type": "execute_result"
    }
   ],
   "source": [
    "data['ctrl']"
   ]
  },
  {
   "cell_type": "code",
   "execution_count": 64,
   "id": "0dc73fea-2131-4c39-83dd-26696b8f538f",
   "metadata": {},
   "outputs": [],
   "source": [
    "f_stats, pvalue= sts.f_oneway(data['ctrl'],data['trt1'],data['trt2'])"
   ]
  },
  {
   "cell_type": "code",
   "execution_count": 65,
   "id": "3ab8c4ee-1435-4a75-8cb9-4a611b42f211",
   "metadata": {},
   "outputs": [
    {
     "data": {
      "text/plain": [
       "(1.6349288372121684, 0.2188248728866687)"
      ]
     },
     "execution_count": 65,
     "metadata": {},
     "output_type": "execute_result"
    }
   ],
   "source": [
    "f_stats, pvalue"
   ]
  },
  {
   "cell_type": "code",
   "execution_count": 66,
   "id": "6d1dfb74-6fd4-4303-8f85-a123f8770bf0",
   "metadata": {},
   "outputs": [
    {
     "name": "stdout",
     "output_type": "stream",
     "text": [
      "Failed to reject the H0\n"
     ]
    }
   ],
   "source": [
    "if pvalue <= 0.05:\n",
    "    print(\"Reject the H0\")\n",
    "else:\n",
    "    print(\"Failed to reject the H0\")"
   ]
  },
  {
   "cell_type": "code",
   "execution_count": null,
   "id": "728c11eb-2b96-434c-b24f-fb548c3e7038",
   "metadata": {},
   "outputs": [],
   "source": []
  },
  {
   "cell_type": "code",
   "execution_count": null,
   "id": "c4147379-4adc-45d7-b208-ff62fec007ee",
   "metadata": {},
   "outputs": [],
   "source": []
  },
  {
   "cell_type": "code",
   "execution_count": null,
   "id": "5029eb81-e61e-4495-9a0d-21038311e29e",
   "metadata": {},
   "outputs": [],
   "source": []
  }
 ],
 "metadata": {
  "kernelspec": {
   "display_name": "Python 3 (ipykernel)",
   "language": "python",
   "name": "python3"
  },
  "language_info": {
   "codemirror_mode": {
    "name": "ipython",
    "version": 3
   },
   "file_extension": ".py",
   "mimetype": "text/x-python",
   "name": "python",
   "nbconvert_exporter": "python",
   "pygments_lexer": "ipython3",
   "version": "3.11.5"
  }
 },
 "nbformat": 4,
 "nbformat_minor": 5
}
